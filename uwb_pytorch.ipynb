{
 "cells": [
  {
   "cell_type": "markdown",
   "metadata": {},
   "source": [
    "## import"
   ]
  },
  {
   "cell_type": "code",
   "execution_count": 1,
   "metadata": {
    "ExecuteTime": {
     "end_time": "2022-02-01T13:18:11.844170Z",
     "start_time": "2022-02-01T13:18:09.916364Z"
    }
   },
   "outputs": [
    {
     "name": "stdout",
     "output_type": "stream",
     "text": [
      "Pytorch Version : 1.9.0\n"
     ]
    }
   ],
   "source": [
    "import torch\n",
    "import torch.nn as nn\n",
    "import torch.optim as optim\n",
    "from torch.utils.data import DataLoader, TensorDataset\n",
    "\n",
    "from sklearn.model_selection import train_test_split\n",
    "from sklearn.metrics import accuracy_score, precision_recall_fscore_support\n",
    "\n",
    "import numpy as np\n",
    "import pandas as pd\n",
    "import matplotlib.pyplot as plt \n",
    "\n",
    "import time\n",
    "import random\n",
    "import os\n",
    "import uwb_dataset\n",
    "\n",
    "\n",
    "print(\"Pytorch Version :\", torch.__version__)\n",
    "%matplotlib inline"
   ]
  },
  {
   "cell_type": "markdown",
   "metadata": {},
   "source": [
    "## transfer learning"
   ]
  },
  {
   "cell_type": "code",
   "execution_count": 2,
   "metadata": {
    "ExecuteTime": {
     "end_time": "2022-02-01T13:18:11.859706Z",
     "start_time": "2022-02-01T13:18:11.845170Z"
    }
   },
   "outputs": [],
   "source": [
    "retrain = False\n",
    "path = os.getcwd()\n",
    "dir_ = 'model'\n",
    "checkpoint_name = ''\n"
   ]
  },
  {
   "cell_type": "code",
   "execution_count": 3,
   "metadata": {
    "ExecuteTime": {
     "end_time": "2022-02-01T13:18:11.875710Z",
     "start_time": "2022-02-01T13:18:11.861706Z"
    }
   },
   "outputs": [],
   "source": [
    "if retrain:\n",
    "    checkpoint_path = os.path.join(path, dir_ , checkpoint_name)\n",
    "    checkpoint = torch.load(checkpoint_path)\n",
    "\n",
    "    model.load_state_dict(checkpoint['model_state_dict'])\n",
    "    optimizer.load_state_dict(checkpoint['optimizer_state_dict'])\n",
    "    epoch = checkpoint['epoch']\n",
    "    loss = checkpoint['loss']\n",
    "    print(checkpoint_path)"
   ]
  },
  {
   "cell_type": "markdown",
   "metadata": {},
   "source": [
    "## Hyper-Parameters"
   ]
  },
  {
   "cell_type": "code",
   "execution_count": 4,
   "metadata": {
    "ExecuteTime": {
     "end_time": "2022-02-01T13:18:11.891713Z",
     "start_time": "2022-02-01T13:18:11.876710Z"
    }
   },
   "outputs": [],
   "source": [
    "# random seed\n",
    "random_seed = 42\n",
    "\n",
    "num_epoch = 100\n",
    "batch_size = 64\n",
    "in_channels = 1\n",
    "num_classes = 2\n",
    "num_layers = 2\n",
    "fully_connected = 128\n",
    "\n",
    "lr = 0.001\n",
    "weight_decay = 0.0\n",
    "\n",
    "# Parameters\n",
    "view_train_iter = 100\n",
    "view_val_iter = 5\n",
    "save_point = 0.95"
   ]
  },
  {
   "cell_type": "markdown",
   "metadata": {},
   "source": [
    "## Random Seed"
   ]
  },
  {
   "cell_type": "code",
   "execution_count": 5,
   "metadata": {
    "ExecuteTime": {
     "end_time": "2022-02-01T13:18:11.907717Z",
     "start_time": "2022-02-01T13:18:11.892713Z"
    }
   },
   "outputs": [],
   "source": [
    "def torch_random_seed(on_seed=False, random_seed=1):\n",
    "    if on_seed:\n",
    "        torch.manual_seed(random_seed)\n",
    "        torch.backends.cudnn.deterministic = True\n",
    "        torch.backends.cudnn.benchmark = False\n",
    "\n",
    "        np.random.seed(random_seed)\n",
    "        random.seed(random_seed)\n",
    "        \n",
    "torch_random_seed(on_seed=True, random_seed=random_seed)"
   ]
  },
  {
   "cell_type": "markdown",
   "metadata": {},
   "source": [
    "## Model Evaluation Function"
   ]
  },
  {
   "cell_type": "code",
   "execution_count": 6,
   "metadata": {
    "ExecuteTime": {
     "end_time": "2022-02-01T13:18:11.915572Z",
     "start_time": "2022-02-01T13:18:11.908717Z"
    }
   },
   "outputs": [],
   "source": [
    "def get_clf_eval(y_true, y_pred, average='weighted'):\n",
    "    accuracy = accuracy_score(y_true, y_pred)\n",
    "    precision, recall, f1, _ = precision_recall_fscore_support(\n",
    "        y_true, y_pred, average=average, warn_for=tuple())\n",
    "    return accuracy, precision, recall, f1"
   ]
  },
  {
   "cell_type": "markdown",
   "metadata": {},
   "source": [
    "## Load UWB data"
   ]
  },
  {
   "cell_type": "code",
   "execution_count": 7,
   "metadata": {
    "ExecuteTime": {
     "end_time": "2022-02-01T13:18:16.429914Z",
     "start_time": "2022-02-01T13:18:11.915572Z"
    },
    "tags": []
   },
   "outputs": [
    {
     "name": "stdout",
     "output_type": "stream",
     "text": [
      "./dataset/uwb_dataset_part1.csv\n",
      "./dataset/uwb_dataset_part2.csv\n",
      "./dataset/uwb_dataset_part3.csv\n",
      "./dataset/uwb_dataset_part4.csv\n",
      "./dataset/uwb_dataset_part5.csv\n",
      "./dataset/uwb_dataset_part6.csv\n",
      "./dataset/uwb_dataset_part7.csv\n",
      "\n",
      "Columns : (1031,)\n",
      "Data : (42000, 1031)\n"
     ]
    }
   ],
   "source": [
    "columns, data = uwb_dataset.import_from_files()\n",
    "\n",
    "for item in data:\n",
    "\titem[15:] = item[15:]/float(item[2])\n",
    "\n",
    "print(\"\\nColumns :\", columns.shape, sep=\" \")\n",
    "print(\"Data :\", data.shape, sep=\" \")"
   ]
  },
  {
   "cell_type": "markdown",
   "metadata": {},
   "source": [
    "## View UWB data"
   ]
  },
  {
   "cell_type": "code",
   "execution_count": 8,
   "metadata": {
    "ExecuteTime": {
     "end_time": "2022-02-01T13:18:16.445917Z",
     "start_time": "2022-02-01T13:18:16.431915Z"
    }
   },
   "outputs": [
    {
     "name": "stdout",
     "output_type": "stream",
     "text": [
      "Columns : ['NLOS' 'RANGE' 'FP_IDX' ... 'CIR1013' 'CIR1014' 'CIR1015']\n",
      "Channel Inpulse Response Count : 1016\n"
     ]
    }
   ],
   "source": [
    "cir_n = len(columns[15:])\n",
    "\n",
    "print(\"Columns :\", columns, sep=\" \")\n",
    "print(\"Channel Inpulse Response Count :\", cir_n, sep=\" \")"
   ]
  },
  {
   "cell_type": "code",
   "execution_count": 9,
   "metadata": {
    "ExecuteTime": {
     "end_time": "2022-02-01T13:18:16.701976Z",
     "start_time": "2022-02-01T13:18:16.446918Z"
    }
   },
   "outputs": [
    {
     "name": "stdout",
     "output_type": "stream",
     "text": [
      "Channel 2 count : 42000\n",
      "Null/NaN Data Count :  0\n"
     ]
    },
    {
     "data": {
      "text/html": [
       "<div>\n",
       "<style scoped>\n",
       "    .dataframe tbody tr th:only-of-type {\n",
       "        vertical-align: middle;\n",
       "    }\n",
       "\n",
       "    .dataframe tbody tr th {\n",
       "        vertical-align: top;\n",
       "    }\n",
       "\n",
       "    .dataframe thead th {\n",
       "        text-align: right;\n",
       "    }\n",
       "</style>\n",
       "<table border=\"1\" class=\"dataframe\">\n",
       "  <thead>\n",
       "    <tr style=\"text-align: right;\">\n",
       "      <th></th>\n",
       "      <th>NLOS</th>\n",
       "      <th>RANGE</th>\n",
       "      <th>FP_IDX</th>\n",
       "      <th>FP_AMP1</th>\n",
       "      <th>FP_AMP2</th>\n",
       "      <th>FP_AMP3</th>\n",
       "      <th>STDEV_NOISE</th>\n",
       "      <th>CIR_PWR</th>\n",
       "      <th>MAX_NOISE</th>\n",
       "      <th>RXPACC</th>\n",
       "      <th>...</th>\n",
       "      <th>CIR1006</th>\n",
       "      <th>CIR1007</th>\n",
       "      <th>CIR1008</th>\n",
       "      <th>CIR1009</th>\n",
       "      <th>CIR1010</th>\n",
       "      <th>CIR1011</th>\n",
       "      <th>CIR1012</th>\n",
       "      <th>CIR1013</th>\n",
       "      <th>CIR1014</th>\n",
       "      <th>CIR1015</th>\n",
       "    </tr>\n",
       "  </thead>\n",
       "  <tbody>\n",
       "    <tr>\n",
       "      <th>0</th>\n",
       "      <td>0.0</td>\n",
       "      <td>3.90</td>\n",
       "      <td>745.0</td>\n",
       "      <td>18712.0</td>\n",
       "      <td>10250.0</td>\n",
       "      <td>11576.0</td>\n",
       "      <td>64.0</td>\n",
       "      <td>11855.0</td>\n",
       "      <td>967.0</td>\n",
       "      <td>611.0</td>\n",
       "      <td>...</td>\n",
       "      <td>0.374497</td>\n",
       "      <td>0.614765</td>\n",
       "      <td>0.245638</td>\n",
       "      <td>0.212081</td>\n",
       "      <td>0.265772</td>\n",
       "      <td>0.116779</td>\n",
       "      <td>0.397315</td>\n",
       "      <td>0.677852</td>\n",
       "      <td>0.412081</td>\n",
       "      <td>0.0</td>\n",
       "    </tr>\n",
       "    <tr>\n",
       "      <th>1</th>\n",
       "      <td>0.0</td>\n",
       "      <td>0.66</td>\n",
       "      <td>749.0</td>\n",
       "      <td>11239.0</td>\n",
       "      <td>6313.0</td>\n",
       "      <td>4712.0</td>\n",
       "      <td>64.0</td>\n",
       "      <td>18968.0</td>\n",
       "      <td>1133.0</td>\n",
       "      <td>447.0</td>\n",
       "      <td>...</td>\n",
       "      <td>0.192256</td>\n",
       "      <td>0.445928</td>\n",
       "      <td>0.387183</td>\n",
       "      <td>0.304406</td>\n",
       "      <td>0.249666</td>\n",
       "      <td>0.284379</td>\n",
       "      <td>0.269693</td>\n",
       "      <td>0.118825</td>\n",
       "      <td>0.137517</td>\n",
       "      <td>0.0</td>\n",
       "    </tr>\n",
       "    <tr>\n",
       "      <th>2</th>\n",
       "      <td>1.0</td>\n",
       "      <td>7.86</td>\n",
       "      <td>746.0</td>\n",
       "      <td>4355.0</td>\n",
       "      <td>5240.0</td>\n",
       "      <td>3478.0</td>\n",
       "      <td>60.0</td>\n",
       "      <td>14699.0</td>\n",
       "      <td>894.0</td>\n",
       "      <td>723.0</td>\n",
       "      <td>...</td>\n",
       "      <td>0.042895</td>\n",
       "      <td>0.500000</td>\n",
       "      <td>0.300268</td>\n",
       "      <td>0.233244</td>\n",
       "      <td>0.166220</td>\n",
       "      <td>0.441019</td>\n",
       "      <td>0.277480</td>\n",
       "      <td>0.128686</td>\n",
       "      <td>0.292225</td>\n",
       "      <td>0.0</td>\n",
       "    </tr>\n",
       "  </tbody>\n",
       "</table>\n",
       "<p>3 rows × 1031 columns</p>\n",
       "</div>"
      ],
      "text/plain": [
       "   NLOS  RANGE  FP_IDX  FP_AMP1  FP_AMP2  FP_AMP3  STDEV_NOISE  CIR_PWR  \\\n",
       "0   0.0   3.90   745.0  18712.0  10250.0  11576.0         64.0  11855.0   \n",
       "1   0.0   0.66   749.0  11239.0   6313.0   4712.0         64.0  18968.0   \n",
       "2   1.0   7.86   746.0   4355.0   5240.0   3478.0         60.0  14699.0   \n",
       "\n",
       "   MAX_NOISE  RXPACC  ...   CIR1006   CIR1007   CIR1008   CIR1009   CIR1010  \\\n",
       "0      967.0   611.0  ...  0.374497  0.614765  0.245638  0.212081  0.265772   \n",
       "1     1133.0   447.0  ...  0.192256  0.445928  0.387183  0.304406  0.249666   \n",
       "2      894.0   723.0  ...  0.042895  0.500000  0.300268  0.233244  0.166220   \n",
       "\n",
       "    CIR1011   CIR1012   CIR1013   CIR1014  CIR1015  \n",
       "0  0.116779  0.397315  0.677852  0.412081      0.0  \n",
       "1  0.284379  0.269693  0.118825  0.137517      0.0  \n",
       "2  0.441019  0.277480  0.128686  0.292225      0.0  \n",
       "\n",
       "[3 rows x 1031 columns]"
      ]
     },
     "execution_count": 9,
     "metadata": {},
     "output_type": "execute_result"
    }
   ],
   "source": [
    "df_uwb = pd.DataFrame(data=data, columns=columns)\n",
    "print(\"Channel 2 count :\", df_uwb.query(\"CH == 2\")['CH'].count())\n",
    "print(\"Null/NaN Data Count : \", df_uwb.isna().sum().sum())\n",
    "df_uwb.head(3)"
   ]
  },
  {
   "cell_type": "code",
   "execution_count": 10,
   "metadata": {
    "ExecuteTime": {
     "end_time": "2022-02-01T13:18:16.846008Z",
     "start_time": "2022-02-01T13:18:16.701976Z"
    }
   },
   "outputs": [
    {
     "name": "stdout",
     "output_type": "stream",
     "text": [
      "Line of Sight Count : 21000\n",
      "Non Line of Sight Count : 21000\n"
     ]
    }
   ],
   "source": [
    "los_count = df_uwb.query(\"NLOS == 0\")[\"NLOS\"].count()\n",
    "nlos_count = df_uwb.query(\"NLOS == 1\")[\"NLOS\"].count()\n",
    "\n",
    "print(\"Line of Sight Count :\", los_count)\n",
    "print(\"Non Line of Sight Count :\", nlos_count)"
   ]
  },
  {
   "cell_type": "code",
   "execution_count": 11,
   "metadata": {
    "ExecuteTime": {
     "end_time": "2022-02-01T13:18:16.926027Z",
     "start_time": "2022-02-01T13:18:16.847009Z"
    }
   },
   "outputs": [
    {
     "name": "stdout",
     "output_type": "stream",
     "text": [
      "UWB DataFrame X for Trainndarray shape :  (42000, 1016)\n"
     ]
    },
    {
     "data": {
      "text/html": [
       "<div>\n",
       "<style scoped>\n",
       "    .dataframe tbody tr th:only-of-type {\n",
       "        vertical-align: middle;\n",
       "    }\n",
       "\n",
       "    .dataframe tbody tr th {\n",
       "        vertical-align: top;\n",
       "    }\n",
       "\n",
       "    .dataframe thead th {\n",
       "        text-align: right;\n",
       "    }\n",
       "</style>\n",
       "<table border=\"1\" class=\"dataframe\">\n",
       "  <thead>\n",
       "    <tr style=\"text-align: right;\">\n",
       "      <th></th>\n",
       "      <th>CIR0</th>\n",
       "      <th>CIR1</th>\n",
       "      <th>CIR2</th>\n",
       "      <th>CIR3</th>\n",
       "      <th>CIR4</th>\n",
       "      <th>CIR5</th>\n",
       "      <th>CIR6</th>\n",
       "      <th>CIR7</th>\n",
       "      <th>CIR8</th>\n",
       "      <th>CIR9</th>\n",
       "      <th>...</th>\n",
       "      <th>CIR1006</th>\n",
       "      <th>CIR1007</th>\n",
       "      <th>CIR1008</th>\n",
       "      <th>CIR1009</th>\n",
       "      <th>CIR1010</th>\n",
       "      <th>CIR1011</th>\n",
       "      <th>CIR1012</th>\n",
       "      <th>CIR1013</th>\n",
       "      <th>CIR1014</th>\n",
       "      <th>CIR1015</th>\n",
       "    </tr>\n",
       "  </thead>\n",
       "  <tbody>\n",
       "    <tr>\n",
       "      <th>0</th>\n",
       "      <td>0.173154</td>\n",
       "      <td>0.418792</td>\n",
       "      <td>0.444295</td>\n",
       "      <td>0.189262</td>\n",
       "      <td>0.214765</td>\n",
       "      <td>0.655034</td>\n",
       "      <td>0.261745</td>\n",
       "      <td>0.193289</td>\n",
       "      <td>0.159732</td>\n",
       "      <td>0.259060</td>\n",
       "      <td>...</td>\n",
       "      <td>0.374497</td>\n",
       "      <td>0.614765</td>\n",
       "      <td>0.245638</td>\n",
       "      <td>0.212081</td>\n",
       "      <td>0.265772</td>\n",
       "      <td>0.116779</td>\n",
       "      <td>0.397315</td>\n",
       "      <td>0.677852</td>\n",
       "      <td>0.412081</td>\n",
       "      <td>0.000000</td>\n",
       "    </tr>\n",
       "    <tr>\n",
       "      <th>1</th>\n",
       "      <td>0.156208</td>\n",
       "      <td>0.217623</td>\n",
       "      <td>0.265688</td>\n",
       "      <td>0.181575</td>\n",
       "      <td>0.189586</td>\n",
       "      <td>0.242991</td>\n",
       "      <td>0.477971</td>\n",
       "      <td>0.164219</td>\n",
       "      <td>0.373832</td>\n",
       "      <td>0.415220</td>\n",
       "      <td>...</td>\n",
       "      <td>0.192256</td>\n",
       "      <td>0.445928</td>\n",
       "      <td>0.387183</td>\n",
       "      <td>0.304406</td>\n",
       "      <td>0.249666</td>\n",
       "      <td>0.284379</td>\n",
       "      <td>0.269693</td>\n",
       "      <td>0.118825</td>\n",
       "      <td>0.137517</td>\n",
       "      <td>0.000000</td>\n",
       "    </tr>\n",
       "    <tr>\n",
       "      <th>2</th>\n",
       "      <td>0.580429</td>\n",
       "      <td>0.321716</td>\n",
       "      <td>0.312332</td>\n",
       "      <td>0.108579</td>\n",
       "      <td>0.191689</td>\n",
       "      <td>0.678284</td>\n",
       "      <td>0.159517</td>\n",
       "      <td>0.364611</td>\n",
       "      <td>0.332440</td>\n",
       "      <td>0.312332</td>\n",
       "      <td>...</td>\n",
       "      <td>0.042895</td>\n",
       "      <td>0.500000</td>\n",
       "      <td>0.300268</td>\n",
       "      <td>0.233244</td>\n",
       "      <td>0.166220</td>\n",
       "      <td>0.441019</td>\n",
       "      <td>0.277480</td>\n",
       "      <td>0.128686</td>\n",
       "      <td>0.292225</td>\n",
       "      <td>0.000000</td>\n",
       "    </tr>\n",
       "    <tr>\n",
       "      <th>3</th>\n",
       "      <td>0.621333</td>\n",
       "      <td>0.329333</td>\n",
       "      <td>0.542667</td>\n",
       "      <td>0.300000</td>\n",
       "      <td>0.372000</td>\n",
       "      <td>0.092000</td>\n",
       "      <td>0.524000</td>\n",
       "      <td>0.581333</td>\n",
       "      <td>0.385333</td>\n",
       "      <td>0.225333</td>\n",
       "      <td>...</td>\n",
       "      <td>0.336000</td>\n",
       "      <td>0.230667</td>\n",
       "      <td>0.264000</td>\n",
       "      <td>0.213333</td>\n",
       "      <td>0.578667</td>\n",
       "      <td>0.529333</td>\n",
       "      <td>0.386667</td>\n",
       "      <td>0.206667</td>\n",
       "      <td>0.456000</td>\n",
       "      <td>0.341333</td>\n",
       "    </tr>\n",
       "    <tr>\n",
       "      <th>4</th>\n",
       "      <td>0.347185</td>\n",
       "      <td>0.320375</td>\n",
       "      <td>0.076408</td>\n",
       "      <td>0.025469</td>\n",
       "      <td>0.117962</td>\n",
       "      <td>0.293566</td>\n",
       "      <td>0.536193</td>\n",
       "      <td>0.202413</td>\n",
       "      <td>0.131367</td>\n",
       "      <td>0.556300</td>\n",
       "      <td>...</td>\n",
       "      <td>0.206434</td>\n",
       "      <td>0.280161</td>\n",
       "      <td>0.324397</td>\n",
       "      <td>0.396783</td>\n",
       "      <td>0.116622</td>\n",
       "      <td>0.238606</td>\n",
       "      <td>0.420912</td>\n",
       "      <td>0.331099</td>\n",
       "      <td>0.391421</td>\n",
       "      <td>0.343164</td>\n",
       "    </tr>\n",
       "  </tbody>\n",
       "</table>\n",
       "<p>5 rows × 1016 columns</p>\n",
       "</div>"
      ],
      "text/plain": [
       "       CIR0      CIR1      CIR2      CIR3      CIR4      CIR5      CIR6  \\\n",
       "0  0.173154  0.418792  0.444295  0.189262  0.214765  0.655034  0.261745   \n",
       "1  0.156208  0.217623  0.265688  0.181575  0.189586  0.242991  0.477971   \n",
       "2  0.580429  0.321716  0.312332  0.108579  0.191689  0.678284  0.159517   \n",
       "3  0.621333  0.329333  0.542667  0.300000  0.372000  0.092000  0.524000   \n",
       "4  0.347185  0.320375  0.076408  0.025469  0.117962  0.293566  0.536193   \n",
       "\n",
       "       CIR7      CIR8      CIR9  ...   CIR1006   CIR1007   CIR1008   CIR1009  \\\n",
       "0  0.193289  0.159732  0.259060  ...  0.374497  0.614765  0.245638  0.212081   \n",
       "1  0.164219  0.373832  0.415220  ...  0.192256  0.445928  0.387183  0.304406   \n",
       "2  0.364611  0.332440  0.312332  ...  0.042895  0.500000  0.300268  0.233244   \n",
       "3  0.581333  0.385333  0.225333  ...  0.336000  0.230667  0.264000  0.213333   \n",
       "4  0.202413  0.131367  0.556300  ...  0.206434  0.280161  0.324397  0.396783   \n",
       "\n",
       "    CIR1010   CIR1011   CIR1012   CIR1013   CIR1014   CIR1015  \n",
       "0  0.265772  0.116779  0.397315  0.677852  0.412081  0.000000  \n",
       "1  0.249666  0.284379  0.269693  0.118825  0.137517  0.000000  \n",
       "2  0.166220  0.441019  0.277480  0.128686  0.292225  0.000000  \n",
       "3  0.578667  0.529333  0.386667  0.206667  0.456000  0.341333  \n",
       "4  0.116622  0.238606  0.420912  0.331099  0.391421  0.343164  \n",
       "\n",
       "[5 rows x 1016 columns]"
      ]
     },
     "execution_count": 11,
     "metadata": {},
     "output_type": "execute_result"
    }
   ],
   "source": [
    "df_uwb_data = df_uwb[[\"CIR\"+str(i) for i in range(cir_n)]]\n",
    "print(\"UWB DataFrame X for Trainndarray shape : \",df_uwb_data.values.shape)\n",
    "df_uwb_data.head(5)"
   ]
  },
  {
   "cell_type": "code",
   "execution_count": 12,
   "metadata": {
    "ExecuteTime": {
     "end_time": "2022-02-01T13:18:17.368433Z",
     "start_time": "2022-02-01T13:18:16.927026Z"
    }
   },
   "outputs": [],
   "source": [
    "x_train, x_test, y_train, y_test = train_test_split(df_uwb_data.values, df_uwb['NLOS'].values, test_size=0.1, random_state=random_seed, stratify=df_uwb['NLOS'].values)\n",
    "x_train, x_val, y_train, y_val = train_test_split(x_train, y_train, test_size=0.1, random_state=random_seed, stratify=y_train)"
   ]
  },
  {
   "cell_type": "markdown",
   "metadata": {},
   "source": [
    "## Split (Train, Validation, Test) x, label Data"
   ]
  },
  {
   "cell_type": "code",
   "execution_count": 13,
   "metadata": {
    "ExecuteTime": {
     "end_time": "2022-02-01T13:18:17.384484Z",
     "start_time": "2022-02-01T13:18:17.368433Z"
    }
   },
   "outputs": [
    {
     "name": "stdout",
     "output_type": "stream",
     "text": [
      "x_train shape : (34020, 1016) (34020,)\n",
      "x_val shape : (3780, 1016) (3780,)\n",
      "x_test shape : (4200, 1016) (4200,)\n"
     ]
    }
   ],
   "source": [
    "print(\"x_train shape :\", x_train.shape, y_train.shape)\n",
    "print(\"x_val shape :\", x_val.shape, y_val.shape)\n",
    "print(\"x_test shape :\", x_test.shape, y_test.shape)"
   ]
  },
  {
   "cell_type": "code",
   "execution_count": 14,
   "metadata": {
    "ExecuteTime": {
     "end_time": "2022-02-01T13:18:17.400488Z",
     "start_time": "2022-02-01T13:18:17.385485Z"
    }
   },
   "outputs": [
    {
     "name": "stdout",
     "output_type": "stream",
     "text": [
      "Train NLOS 0 count : 17010\n",
      "Train NLOS 1 count : 17010\n",
      "Validation NLOS 0 count : 1890\n",
      "Validation NLOS 1 count : 1890\n",
      "Test NLOS 0 count : 2100\n",
      "Test NLOS 0 count : 2100\n"
     ]
    }
   ],
   "source": [
    "print(\"Train NLOS 0 count :\", len(y_train[y_train==0]))\n",
    "print(\"Train NLOS 1 count :\", len(y_train[y_train==1]))\n",
    "print(\"Validation NLOS 0 count :\", len(y_val[y_val==0]))\n",
    "print(\"Validation NLOS 1 count :\", len(y_val[y_val==1]))\n",
    "print(\"Test NLOS 0 count :\", len(y_test[y_test==0]))\n",
    "print(\"Test NLOS 0 count :\", len(y_test[y_test==1]))"
   ]
  },
  {
   "cell_type": "markdown",
   "metadata": {},
   "source": [
    "## Dataset & DataLoader"
   ]
  },
  {
   "cell_type": "code",
   "execution_count": 15,
   "metadata": {
    "ExecuteTime": {
     "end_time": "2022-02-01T13:18:17.416491Z",
     "start_time": "2022-02-01T13:18:17.401488Z"
    }
   },
   "outputs": [],
   "source": [
    "def generating_loader(x_data, y_data, batch_size=batch_size, shuffle=True, drop_last=True):\n",
    "    # preprocessing x_data\n",
    "    x_data = np.expand_dims(x_data, axis=1)\n",
    "    x_tensor = torch.tensor(x_data, dtype=torch.float32)\n",
    "    # preprocessing y_data\n",
    "    y_tensor = torch.tensor(y_data, dtype=torch.long).view(-1)\n",
    "\n",
    "    return DataLoader(TensorDataset(x_tensor, y_tensor), batch_size=batch_size, shuffle=shuffle, drop_last=drop_last)"
   ]
  },
  {
   "cell_type": "code",
   "execution_count": 16,
   "metadata": {
    "ExecuteTime": {
     "end_time": "2022-02-01T13:18:17.448499Z",
     "start_time": "2022-02-01T13:18:17.417492Z"
    }
   },
   "outputs": [],
   "source": [
    "trainloader = generating_loader(x_train, y_train, batch_size=batch_size, shuffle=True, drop_last=True)\n",
    "validationloader = generating_loader(x_val, y_val, batch_size=batch_size, shuffle=False, drop_last=True)\n",
    "testloader = generating_loader(x_val, y_val, batch_size=batch_size, shuffle=False, drop_last=True)"
   ]
  },
  {
   "cell_type": "code",
   "execution_count": 17,
   "metadata": {
    "ExecuteTime": {
     "end_time": "2022-02-01T13:18:17.464502Z",
     "start_time": "2022-02-01T13:18:17.449499Z"
    }
   },
   "outputs": [
    {
     "name": "stdout",
     "output_type": "stream",
     "text": [
      "torch.Size([64, 1, 1016]) torch.Size([64])\n"
     ]
    }
   ],
   "source": [
    "for x, label in trainloader:\n",
    "    print(x.shape, label.shape)\n",
    "    break"
   ]
  },
  {
   "cell_type": "markdown",
   "metadata": {},
   "source": [
    "## Create Model "
   ]
  },
  {
   "cell_type": "code",
   "execution_count": 18,
   "metadata": {
    "ExecuteTime": {
     "end_time": "2022-02-01T13:18:17.480506Z",
     "start_time": "2022-02-01T13:18:17.465503Z"
    }
   },
   "outputs": [],
   "source": [
    "class CNN_LSTM(nn.Module):\n",
    "    def __init__(self, in_channels, out_channels, batch_size, num_layers, fully_connected, device):\n",
    "        super(CNN_LSTM, self).__init__()\n",
    "        self.batch_size = batch_size\n",
    "        self.conv1d_layer = nn.Sequential(\n",
    "            nn.Conv1d(in_channels=in_channels, out_channels=10, kernel_size=4, stride=1, padding=0),\n",
    "            nn.ReLU(),\n",
    "            nn.Conv1d(in_channels=10, out_channels=20, kernel_size=5, stride=1, padding=0),\n",
    "            nn.ReLU(),\n",
    "            nn.MaxPool1d(kernel_size=2, stride=2),\n",
    "        ) \n",
    "        self.lstm = nn.LSTM(input_size = 504, \n",
    "                            hidden_size = 32, \n",
    "                            num_layers = num_layers,\n",
    "                            bias = False,\n",
    "                            dropout = 0.5,\n",
    "                            bidirectional = True,\n",
    "                            batch_first=True)\n",
    "\n",
    "        self.hidden_state, self.cell_state = self.init_hidden()\n",
    "        \n",
    "        self.bn = nn.BatchNorm1d(64)\n",
    "        self.fc_layer = nn.Linear(64, 128)\n",
    "        self.relu = nn.ReLU()\n",
    "        self.fc_layer_class = nn.Linear(128, out_channels)\n",
    "\n",
    "\n",
    "    def init_hidden(self):\n",
    "        hidden_state = torch.zeros(num_layers*2, self.batch_size, 32).to(device)\n",
    "        cell_state = torch.zeros(num_layers*2, self.batch_size, 32).to(device)\n",
    "\n",
    "        return hidden_state, cell_state\n",
    "        \n",
    "    def forward(self, x):\n",
    "        x = self.conv1d_layer(x)\n",
    "        x, _ = self.lstm(x,(self.hidden_state, self.cell_state))\n",
    "        x = x[:, -1 :].view(x.size(0), -1)\n",
    "        x = self.bn(x)\n",
    "        x = self.fc_layer(x)\n",
    "        x = self.relu(x)\n",
    "        x = self.fc_layer_class(x)\n",
    "        x = self.relu(x)\n",
    "\n",
    "        return x"
   ]
  },
  {
   "cell_type": "code",
   "execution_count": 19,
   "metadata": {
    "ExecuteTime": {
     "end_time": "2022-02-01T13:18:19.492178Z",
     "start_time": "2022-02-01T13:18:17.481506Z"
    },
    "tags": []
   },
   "outputs": [],
   "source": [
    "device = torch.device(\"cuda:0\" if torch.cuda.is_available() else \"cpu\")\n",
    "model = CNN_LSTM(\n",
    "    in_channels=in_channels,\\\n",
    "    device=device,\\\n",
    "    out_channels=num_classes,\\\n",
    "    batch_size=batch_size,\\\n",
    "    fully_connected=fully_connected,\\\n",
    "    num_layers=num_layers).to(device)\n",
    "loss_function = nn.CrossEntropyLoss()  \n",
    "optimizer = optim.Adam(model.parameters(), lr=lr, weight_decay=weight_decay)  # optimizer"
   ]
  },
  {
   "cell_type": "code",
   "execution_count": 20,
   "metadata": {
    "ExecuteTime": {
     "end_time": "2022-02-01T13:23:33.455590Z",
     "start_time": "2022-02-01T13:18:19.492178Z"
    },
    "tags": []
   },
   "outputs": [
    {
     "name": "stdout",
     "output_type": "stream",
     "text": [
      "*Train Start!!*\n",
      "epoch : 100, learing rate : 0.001, device : NVIDIA GeForce RTX 2060 SUPER\n",
      "Model : CNN_LSTM\n",
      "Loss function : CrossEntropyLoss\n",
      "Optimizer : Adam ( Parameter Group 0, amsgrad: False, betas: (0.9, 0.999), eps: 1e-08, lr: 0.001, weight_decay: 0.0 )\n",
      "****************************************************************************************************\n"
     ]
    },
    {
     "name": "stderr",
     "output_type": "stream",
     "text": [
      "C:\\Users\\Yoon\\anaconda3\\lib\\site-packages\\torch\\nn\\functional.py:652: UserWarning: Named tensors and all their associated APIs are an experimental feature and subject to change. Please do not use them for anything important until they are released as stable. (Triggered internally at  ..\\c10/core/TensorImpl.h:1156.)\n",
      "  return torch.max_pool1d(input, kernel_size, stride, padding, dilation, ceil_mode)\n"
     ]
    },
    {
     "name": "stdout",
     "output_type": "stream",
     "text": [
      "[Train] (1, 0) loss = 0.68704, Accuracy = 0.6875, lr=0.001000\n",
      "[Train] (1, 100) loss = 0.42302, Accuracy = 0.7422, lr=0.001000\n",
      "[Train] (1, 200) loss = 0.35409, Accuracy = 0.7969, lr=0.001000\n",
      "[Train] (1, 300) loss = 0.41555, Accuracy = 0.7930, lr=0.001000\n",
      "[Train] (1, 400) loss = 0.31510, Accuracy = 0.8125, lr=0.001000\n",
      "[Train] (1, 500) loss = 0.38404, Accuracy = 0.8073, lr=0.001000\n",
      "[Train] (2, 0) loss = 0.37173, Accuracy = 0.8147, lr=0.001000\n",
      "[Train] (2, 100) loss = 0.46200, Accuracy = 0.8125, lr=0.001000\n",
      "[Train] (2, 200) loss = 0.21119, Accuracy = 0.8229, lr=0.001000\n",
      "[Train] (2, 300) loss = 0.36068, Accuracy = 0.8234, lr=0.001000\n",
      "[Train] (2, 400) loss = 0.26921, Accuracy = 0.8324, lr=0.001000\n",
      "[Train] (2, 500) loss = 0.23369, Accuracy = 0.8385, lr=0.001000\n",
      "[Train] (3, 0) loss = 0.30426, Accuracy = 0.8425, lr=0.001000\n",
      "[Train] (3, 100) loss = 0.22138, Accuracy = 0.8482, lr=0.001000\n",
      "[Train] (3, 200) loss = 0.35889, Accuracy = 0.8458, lr=0.001000\n",
      "[Train] (3, 300) loss = 0.24684, Accuracy = 0.8486, lr=0.001000\n",
      "[Train] (3, 400) loss = 0.46946, Accuracy = 0.8474, lr=0.001000\n",
      "[Train] (3, 500) loss = 0.37296, Accuracy = 0.8446, lr=0.001000\n",
      "[Train] (4, 0) loss = 0.32468, Accuracy = 0.8429, lr=0.001000\n",
      "[Train] (4, 100) loss = 0.27635, Accuracy = 0.8445, lr=0.001000\n",
      "[Train] (4, 200) loss = 0.33637, Accuracy = 0.8445, lr=0.001000\n",
      "[Train] (4, 300) loss = 0.41574, Accuracy = 0.8416, lr=0.001000\n",
      "[Train] (4, 400) loss = 0.24529, Accuracy = 0.8438, lr=0.001000\n",
      "[Train] (4, 500) loss = 0.37204, Accuracy = 0.8431, lr=0.001000\n",
      "[Train] (5, 0) loss = 0.41412, Accuracy = 0.8419, lr=0.001000\n",
      "[Train] (5, 100) loss = 0.23923, Accuracy = 0.8444, lr=0.001000\n",
      "[Train] (5, 200) loss = 0.33140, Accuracy = 0.8449, lr=0.001000\n",
      "[Train] (5, 300) loss = 0.23890, Accuracy = 0.8465, lr=0.001000\n",
      "[Train] (5, 400) loss = 0.32278, Accuracy = 0.8470, lr=0.001000\n",
      "[Train] (5, 500) loss = 0.38779, Accuracy = 0.8464, lr=0.001000\n",
      "*[Valid] Accuracy:0.8125, Precison:0.8196, Recall:0.8125, F1 Score:0.8129\n",
      "[Train] (6, 0) loss = 0.25694, Accuracy = 0.8478, lr=0.001000\n",
      "[Train] (6, 100) loss = 0.28350, Accuracy = 0.8481, lr=0.001000\n",
      "[Train] (6, 200) loss = 0.26087, Accuracy = 0.8504, lr=0.001000\n",
      "[Train] (6, 300) loss = 0.27533, Accuracy = 0.8511, lr=0.001000\n",
      "[Train] (6, 400) loss = 0.31522, Accuracy = 0.8504, lr=0.001000\n",
      "[Train] (6, 500) loss = 0.27048, Accuracy = 0.8507, lr=0.001000\n",
      "[Train] (7, 0) loss = 0.25476, Accuracy = 0.8518, lr=0.001000\n",
      "[Train] (7, 100) loss = 0.24311, Accuracy = 0.8532, lr=0.001000\n",
      "[Train] (7, 200) loss = 0.25782, Accuracy = 0.8538, lr=0.001000\n",
      "[Train] (7, 300) loss = 0.40823, Accuracy = 0.8539, lr=0.001000\n",
      "[Train] (7, 400) loss = 0.31737, Accuracy = 0.8533, lr=0.001000\n",
      "[Train] (7, 500) loss = 0.27711, Accuracy = 0.8542, lr=0.001000\n",
      "[Train] (8, 0) loss = 0.33174, Accuracy = 0.8543, lr=0.001000\n",
      "[Train] (8, 100) loss = 0.31194, Accuracy = 0.8551, lr=0.001000\n",
      "[Train] (8, 200) loss = 0.26540, Accuracy = 0.8559, lr=0.001000\n",
      "[Train] (8, 300) loss = 0.26752, Accuracy = 0.8563, lr=0.001000\n",
      "[Train] (8, 400) loss = 0.19053, Accuracy = 0.8580, lr=0.001000\n",
      "[Train] (8, 500) loss = 0.21796, Accuracy = 0.8587, lr=0.001000\n",
      "[Train] (9, 0) loss = 0.18606, Accuracy = 0.8607, lr=0.001000\n",
      "[Train] (9, 100) loss = 0.24899, Accuracy = 0.8616, lr=0.001000\n",
      "[Train] (9, 200) loss = 0.22307, Accuracy = 0.8621, lr=0.001000\n",
      "[Train] (9, 300) loss = 0.23164, Accuracy = 0.8627, lr=0.001000\n",
      "[Train] (9, 400) loss = 0.31736, Accuracy = 0.8629, lr=0.001000\n",
      "[Train] (9, 500) loss = 0.26222, Accuracy = 0.8637, lr=0.001000\n",
      "[Train] (10, 0) loss = 0.13554, Accuracy = 0.8651, lr=0.001000\n",
      "[Train] (10, 100) loss = 0.28438, Accuracy = 0.8650, lr=0.001000\n",
      "[Train] (10, 200) loss = 0.28742, Accuracy = 0.8651, lr=0.001000\n",
      "[Train] (10, 300) loss = 0.19602, Accuracy = 0.8661, lr=0.001000\n",
      "[Train] (10, 400) loss = 0.21171, Accuracy = 0.8668, lr=0.001000\n",
      "[Train] (10, 500) loss = 0.30734, Accuracy = 0.8672, lr=0.001000\n",
      "*[Valid] Accuracy:0.7969, Precison:0.8007, Recall:0.7969, F1 Score:0.7970\n",
      "[Train] (11, 0) loss = 0.28457, Accuracy = 0.8668, lr=0.001000\n",
      "[Train] (11, 100) loss = 0.38441, Accuracy = 0.8667, lr=0.001000\n",
      "[Train] (11, 200) loss = 0.25597, Accuracy = 0.8671, lr=0.001000\n",
      "[Train] (11, 300) loss = 0.18152, Accuracy = 0.8679, lr=0.001000\n",
      "[Train] (11, 400) loss = 0.19580, Accuracy = 0.8687, lr=0.001000\n",
      "[Train] (11, 500) loss = 0.26413, Accuracy = 0.8686, lr=0.001000\n",
      "[Train] (12, 0) loss = 0.11196, Accuracy = 0.8701, lr=0.001000\n",
      "[Train] (12, 100) loss = 0.26357, Accuracy = 0.8697, lr=0.001000\n",
      "[Train] (12, 200) loss = 0.22421, Accuracy = 0.8700, lr=0.001000\n",
      "[Train] (12, 300) loss = 0.16854, Accuracy = 0.8710, lr=0.001000\n",
      "[Train] (12, 400) loss = 0.25960, Accuracy = 0.8719, lr=0.001000\n",
      "[Train] (12, 500) loss = 0.21511, Accuracy = 0.8726, lr=0.001000\n",
      "[Train] (13, 0) loss = 0.29088, Accuracy = 0.8722, lr=0.001000\n",
      "[Train] (13, 100) loss = 0.25910, Accuracy = 0.8723, lr=0.001000\n",
      "[Train] (13, 200) loss = 0.21468, Accuracy = 0.8725, lr=0.001000\n",
      "[Train] (13, 300) loss = 0.15351, Accuracy = 0.8736, lr=0.001000\n",
      "[Train] (13, 400) loss = 0.16109, Accuracy = 0.8744, lr=0.001000\n",
      "[Train] (13, 500) loss = 0.26129, Accuracy = 0.8748, lr=0.001000\n",
      "[Train] (14, 0) loss = 0.23169, Accuracy = 0.8746, lr=0.001000\n",
      "[Train] (14, 100) loss = 0.20966, Accuracy = 0.8748, lr=0.001000\n",
      "[Train] (14, 200) loss = 0.18765, Accuracy = 0.8756, lr=0.001000\n",
      "[Train] (14, 300) loss = 0.14362, Accuracy = 0.8763, lr=0.001000\n",
      "[Train] (14, 400) loss = 0.22426, Accuracy = 0.8765, lr=0.001000\n",
      "[Train] (14, 500) loss = 0.15821, Accuracy = 0.8774, lr=0.001000\n",
      "[Train] (15, 0) loss = 0.25259, Accuracy = 0.8778, lr=0.001000\n",
      "[Train] (15, 100) loss = 0.21156, Accuracy = 0.8781, lr=0.001000\n",
      "[Train] (15, 200) loss = 0.18127, Accuracy = 0.8784, lr=0.001000\n",
      "[Train] (15, 300) loss = 0.22459, Accuracy = 0.8789, lr=0.001000\n",
      "[Train] (15, 400) loss = 0.22107, Accuracy = 0.8785, lr=0.001000\n",
      "[Train] (15, 500) loss = 0.28453, Accuracy = 0.8783, lr=0.001000\n",
      "*[Valid] Accuracy:0.8125, Precison:0.8196, Recall:0.8125, F1 Score:0.8129\n",
      "[Train] (16, 0) loss = 0.13705, Accuracy = 0.8789, lr=0.001000\n",
      "[Train] (16, 100) loss = 0.14148, Accuracy = 0.8796, lr=0.001000\n",
      "[Train] (16, 200) loss = 0.15309, Accuracy = 0.8800, lr=0.001000\n",
      "[Train] (16, 300) loss = 0.13799, Accuracy = 0.8807, lr=0.001000\n",
      "[Train] (16, 400) loss = 0.18364, Accuracy = 0.8809, lr=0.001000\n",
      "[Train] (16, 500) loss = 0.17116, Accuracy = 0.8820, lr=0.001000\n",
      "[Train] (17, 0) loss = 0.21742, Accuracy = 0.8822, lr=0.001000\n",
      "[Train] (17, 100) loss = 0.14215, Accuracy = 0.8828, lr=0.001000\n",
      "[Train] (17, 200) loss = 0.22625, Accuracy = 0.8834, lr=0.001000\n",
      "[Train] (17, 300) loss = 0.13772, Accuracy = 0.8842, lr=0.001000\n",
      "[Train] (17, 400) loss = 0.19472, Accuracy = 0.8846, lr=0.001000\n",
      "[Train] (17, 500) loss = 0.13288, Accuracy = 0.8853, lr=0.001000\n",
      "[Train] (18, 0) loss = 0.18423, Accuracy = 0.8856, lr=0.001000\n",
      "[Train] (18, 100) loss = 0.15871, Accuracy = 0.8858, lr=0.001000\n",
      "[Train] (18, 200) loss = 0.04421, Accuracy = 0.8869, lr=0.001000\n",
      "[Train] (18, 300) loss = 0.15356, Accuracy = 0.8874, lr=0.001000\n",
      "[Train] (18, 400) loss = 0.12077, Accuracy = 0.8880, lr=0.001000\n",
      "[Train] (18, 500) loss = 0.21889, Accuracy = 0.8882, lr=0.001000\n",
      "[Train] (19, 0) loss = 0.10066, Accuracy = 0.8890, lr=0.001000\n",
      "[Train] (19, 100) loss = 0.17812, Accuracy = 0.8892, lr=0.001000\n",
      "[Train] (19, 200) loss = 0.06657, Accuracy = 0.8901, lr=0.001000\n",
      "[Train] (19, 300) loss = 0.09748, Accuracy = 0.8908, lr=0.001000\n",
      "[Train] (19, 400) loss = 0.21818, Accuracy = 0.8910, lr=0.001000\n",
      "[Train] (19, 500) loss = 0.15549, Accuracy = 0.8914, lr=0.001000\n",
      "[Train] (20, 0) loss = 0.10095, Accuracy = 0.8923, lr=0.001000\n",
      "[Train] (20, 100) loss = 0.10010, Accuracy = 0.8928, lr=0.001000\n",
      "[Train] (20, 200) loss = 0.09559, Accuracy = 0.8934, lr=0.001000\n",
      "[Train] (20, 300) loss = 0.12461, Accuracy = 0.8938, lr=0.001000\n",
      "[Train] (20, 400) loss = 0.15666, Accuracy = 0.8939, lr=0.001000\n",
      "[Train] (20, 500) loss = 0.14415, Accuracy = 0.8941, lr=0.001000\n",
      "*[Valid] Accuracy:0.8125, Precison:0.8125, Recall:0.8125, F1 Score:0.8125\n",
      "[Train] (21, 0) loss = 0.06739, Accuracy = 0.8948, lr=0.001000\n",
      "[Train] (21, 100) loss = 0.07098, Accuracy = 0.8952, lr=0.001000\n",
      "[Train] (21, 200) loss = 0.06526, Accuracy = 0.8960, lr=0.001000\n"
     ]
    },
    {
     "name": "stdout",
     "output_type": "stream",
     "text": [
      "[Train] (21, 300) loss = 0.10178, Accuracy = 0.8964, lr=0.001000\n",
      "[Train] (21, 400) loss = 0.16373, Accuracy = 0.8965, lr=0.001000\n",
      "[Train] (21, 500) loss = 0.12930, Accuracy = 0.8967, lr=0.001000\n",
      "[Train] (22, 0) loss = 0.14030, Accuracy = 0.8968, lr=0.001000\n",
      "[Train] (22, 100) loss = 0.10002, Accuracy = 0.8975, lr=0.001000\n",
      "[Train] (22, 200) loss = 0.16078, Accuracy = 0.8979, lr=0.001000\n",
      "[Train] (22, 300) loss = 0.13422, Accuracy = 0.8981, lr=0.001000\n",
      "[Train] (22, 400) loss = 0.04532, Accuracy = 0.8987, lr=0.001000\n",
      "[Train] (22, 500) loss = 0.13417, Accuracy = 0.8989, lr=0.001000\n",
      "[Train] (23, 0) loss = 0.15267, Accuracy = 0.8991, lr=0.001000\n",
      "[Train] (23, 100) loss = 0.10074, Accuracy = 0.8996, lr=0.001000\n",
      "[Train] (23, 200) loss = 0.11810, Accuracy = 0.9000, lr=0.001000\n",
      "[Train] (23, 300) loss = 0.09764, Accuracy = 0.9004, lr=0.001000\n",
      "[Train] (23, 400) loss = 0.24308, Accuracy = 0.9004, lr=0.001000\n",
      "[Train] (23, 500) loss = 0.10336, Accuracy = 0.9008, lr=0.001000\n",
      "[Train] (24, 0) loss = 0.12146, Accuracy = 0.9012, lr=0.001000\n",
      "[Train] (24, 100) loss = 0.10641, Accuracy = 0.9015, lr=0.001000\n",
      "[Train] (24, 200) loss = 0.09957, Accuracy = 0.9017, lr=0.001000\n",
      "[Train] (24, 300) loss = 0.16339, Accuracy = 0.9022, lr=0.001000\n",
      "[Train] (24, 400) loss = 0.07845, Accuracy = 0.9028, lr=0.001000\n",
      "[Train] (24, 500) loss = 0.06287, Accuracy = 0.9032, lr=0.001000\n",
      "[Train] (25, 0) loss = 0.10811, Accuracy = 0.9037, lr=0.001000\n",
      "[Train] (25, 100) loss = 0.08463, Accuracy = 0.9040, lr=0.001000\n",
      "[Train] (25, 200) loss = 0.06599, Accuracy = 0.9045, lr=0.001000\n",
      "[Train] (25, 300) loss = 0.04919, Accuracy = 0.9050, lr=0.001000\n",
      "[Train] (25, 400) loss = 0.03675, Accuracy = 0.9056, lr=0.001000\n",
      "[Train] (25, 500) loss = 0.11338, Accuracy = 0.9059, lr=0.001000\n",
      "*[Valid] Accuracy:0.8125, Precison:0.8141, Recall:0.8125, F1 Score:0.8125\n",
      "[Train] (26, 0) loss = 0.05474, Accuracy = 0.9062, lr=0.001000\n",
      "[Train] (26, 100) loss = 0.02698, Accuracy = 0.9069, lr=0.001000\n",
      "[Train] (26, 200) loss = 0.03297, Accuracy = 0.9075, lr=0.001000\n",
      "[Train] (26, 300) loss = 0.08794, Accuracy = 0.9079, lr=0.001000\n",
      "[Train] (26, 400) loss = 0.04805, Accuracy = 0.9084, lr=0.001000\n",
      "[Train] (26, 500) loss = 0.16777, Accuracy = 0.9085, lr=0.001000\n",
      "[Train] (27, 0) loss = 0.04536, Accuracy = 0.9089, lr=0.001000\n",
      "[Train] (27, 100) loss = 0.05787, Accuracy = 0.9094, lr=0.001000\n",
      "[Train] (27, 200) loss = 0.04626, Accuracy = 0.9099, lr=0.001000\n",
      "[Train] (27, 300) loss = 0.02106, Accuracy = 0.9104, lr=0.001000\n",
      "[Train] (27, 400) loss = 0.00979, Accuracy = 0.9110, lr=0.001000\n",
      "[Train] (27, 500) loss = 0.09566, Accuracy = 0.9113, lr=0.001000\n",
      "[Train] (28, 0) loss = 0.02996, Accuracy = 0.9117, lr=0.001000\n",
      "[Train] (28, 100) loss = 0.04542, Accuracy = 0.9121, lr=0.001000\n",
      "[Train] (28, 200) loss = 0.03532, Accuracy = 0.9125, lr=0.001000\n",
      "[Train] (28, 300) loss = 0.07693, Accuracy = 0.9127, lr=0.001000\n",
      "[Train] (28, 400) loss = 0.07274, Accuracy = 0.9131, lr=0.001000\n",
      "[Train] (28, 500) loss = 0.01261, Accuracy = 0.9136, lr=0.001000\n",
      "[Train] (29, 0) loss = 0.06306, Accuracy = 0.9140, lr=0.001000\n",
      "[Train] (29, 100) loss = 0.02530, Accuracy = 0.9144, lr=0.001000\n",
      "[Train] (29, 200) loss = 0.04543, Accuracy = 0.9148, lr=0.001000\n",
      "[Train] (29, 300) loss = 0.10523, Accuracy = 0.9152, lr=0.001000\n",
      "[Train] (29, 400) loss = 0.01612, Accuracy = 0.9156, lr=0.001000\n",
      "[Train] (29, 500) loss = 0.03530, Accuracy = 0.9160, lr=0.001000\n",
      "[Train] (30, 0) loss = 0.08432, Accuracy = 0.9162, lr=0.001000\n",
      "[Train] (30, 100) loss = 0.03566, Accuracy = 0.9165, lr=0.001000\n",
      "[Train] (30, 200) loss = 0.04872, Accuracy = 0.9169, lr=0.001000\n",
      "[Train] (30, 300) loss = 0.02301, Accuracy = 0.9173, lr=0.001000\n",
      "[Train] (30, 400) loss = 0.06755, Accuracy = 0.9177, lr=0.001000\n",
      "[Train] (30, 500) loss = 0.01703, Accuracy = 0.9181, lr=0.001000\n",
      "*[Valid] Accuracy:0.8125, Precison:0.8125, Recall:0.8125, F1 Score:0.8125\n",
      "[Train] (31, 0) loss = 0.02309, Accuracy = 0.9185, lr=0.001000\n",
      "[Train] (31, 100) loss = 0.08676, Accuracy = 0.9186, lr=0.001000\n",
      "[Train] (31, 200) loss = 0.03123, Accuracy = 0.9190, lr=0.001000\n",
      "[Train] (31, 300) loss = 0.09157, Accuracy = 0.9192, lr=0.001000\n",
      "[Train] (31, 400) loss = 0.05984, Accuracy = 0.9196, lr=0.001000\n",
      "[Train] (31, 500) loss = 0.00977, Accuracy = 0.9200, lr=0.001000\n",
      "[Train] (32, 0) loss = 0.04205, Accuracy = 0.9203, lr=0.001000\n",
      "[Train] (32, 100) loss = 0.01498, Accuracy = 0.9207, lr=0.001000\n",
      "[Train] (32, 200) loss = 0.19674, Accuracy = 0.9207, lr=0.001000\n",
      "[Train] (32, 300) loss = 0.00451, Accuracy = 0.9211, lr=0.001000\n",
      "[Train] (32, 400) loss = 0.10681, Accuracy = 0.9213, lr=0.001000\n",
      "[Train] (32, 500) loss = 0.01730, Accuracy = 0.9217, lr=0.001000\n",
      "[Train] (33, 0) loss = 0.00919, Accuracy = 0.9221, lr=0.001000\n",
      "[Train] (33, 100) loss = 0.00361, Accuracy = 0.9225, lr=0.001000\n",
      "[Train] (33, 200) loss = 0.03971, Accuracy = 0.9228, lr=0.001000\n",
      "[Train] (33, 300) loss = 0.02269, Accuracy = 0.9232, lr=0.001000\n",
      "[Train] (33, 400) loss = 0.12264, Accuracy = 0.9232, lr=0.001000\n",
      "[Train] (33, 500) loss = 0.09613, Accuracy = 0.9235, lr=0.001000\n",
      "[Train] (34, 0) loss = 0.01968, Accuracy = 0.9239, lr=0.001000\n",
      "[Train] (34, 100) loss = 0.01117, Accuracy = 0.9243, lr=0.001000\n",
      "[Train] (34, 200) loss = 0.01557, Accuracy = 0.9247, lr=0.001000\n",
      "[Train] (34, 300) loss = 0.02290, Accuracy = 0.9250, lr=0.001000\n",
      "[Train] (34, 400) loss = 0.00716, Accuracy = 0.9253, lr=0.001000\n",
      "[Train] (34, 500) loss = 0.01919, Accuracy = 0.9256, lr=0.001000\n",
      "[Train] (35, 0) loss = 0.00398, Accuracy = 0.9260, lr=0.001000\n",
      "[Train] (35, 100) loss = 0.04764, Accuracy = 0.9262, lr=0.001000\n",
      "[Train] (35, 200) loss = 0.00471, Accuracy = 0.9266, lr=0.001000\n",
      "[Train] (35, 300) loss = 0.01868, Accuracy = 0.9269, lr=0.001000\n",
      "[Train] (35, 400) loss = 0.00668, Accuracy = 0.9273, lr=0.001000\n",
      "[Train] (35, 500) loss = 0.03311, Accuracy = 0.9275, lr=0.001000\n",
      "*[Valid] Accuracy:0.8125, Precison:0.8125, Recall:0.8125, F1 Score:0.8125\n",
      "[Train] (36, 0) loss = 0.00288, Accuracy = 0.9279, lr=0.001000\n",
      "[Train] (36, 100) loss = 0.02382, Accuracy = 0.9281, lr=0.001000\n",
      "[Train] (36, 200) loss = 0.01862, Accuracy = 0.9284, lr=0.001000\n",
      "[Train] (36, 300) loss = 0.14462, Accuracy = 0.9286, lr=0.001000\n",
      "[Train] (36, 400) loss = 0.00460, Accuracy = 0.9289, lr=0.001000\n",
      "[Train] (36, 500) loss = 0.00764, Accuracy = 0.9293, lr=0.001000\n",
      "[Train] (37, 0) loss = 0.00488, Accuracy = 0.9296, lr=0.001000\n",
      "[Train] (37, 100) loss = 0.00264, Accuracy = 0.9299, lr=0.001000\n",
      "[Train] (37, 200) loss = 0.00296, Accuracy = 0.9302, lr=0.001000\n",
      "[Train] (37, 300) loss = 0.02284, Accuracy = 0.9305, lr=0.001000\n",
      "[Train] (37, 400) loss = 0.02159, Accuracy = 0.9307, lr=0.001000\n",
      "[Train] (37, 500) loss = 0.26928, Accuracy = 0.9308, lr=0.001000\n",
      "[Train] (38, 0) loss = 0.00080, Accuracy = 0.9311, lr=0.001000\n",
      "[Train] (38, 100) loss = 0.00070, Accuracy = 0.9314, lr=0.001000\n",
      "[Train] (38, 200) loss = 0.01091, Accuracy = 0.9317, lr=0.001000\n",
      "[Train] (38, 300) loss = 0.01849, Accuracy = 0.9320, lr=0.001000\n",
      "[Train] (38, 400) loss = 0.01610, Accuracy = 0.9322, lr=0.001000\n",
      "[Train] (38, 500) loss = 0.00182, Accuracy = 0.9325, lr=0.001000\n",
      "[Train] (39, 0) loss = 0.06290, Accuracy = 0.9327, lr=0.001000\n",
      "[Train] (39, 100) loss = 0.00706, Accuracy = 0.9329, lr=0.001000\n",
      "[Train] (39, 200) loss = 0.01839, Accuracy = 0.9332, lr=0.001000\n",
      "[Train] (39, 300) loss = 0.00748, Accuracy = 0.9335, lr=0.001000\n",
      "[Train] (39, 400) loss = 0.00076, Accuracy = 0.9337, lr=0.001000\n",
      "[Train] (39, 500) loss = 0.01159, Accuracy = 0.9340, lr=0.001000\n",
      "[Train] (40, 0) loss = 0.00211, Accuracy = 0.9343, lr=0.001000\n",
      "[Train] (40, 100) loss = 0.01436, Accuracy = 0.9345, lr=0.001000\n",
      "[Train] (40, 200) loss = 0.04586, Accuracy = 0.9347, lr=0.001000\n",
      "[Train] (40, 300) loss = 0.01286, Accuracy = 0.9350, lr=0.001000\n",
      "[Train] (40, 400) loss = 0.02680, Accuracy = 0.9352, lr=0.001000\n",
      "[Train] (40, 500) loss = 0.02624, Accuracy = 0.9354, lr=0.001000\n",
      "*[Valid] Accuracy:0.7969, Precison:0.7972, Recall:0.7969, F1 Score:0.7968\n",
      "[Train] (41, 0) loss = 0.05451, Accuracy = 0.9356, lr=0.001000\n",
      "[Train] (41, 100) loss = 0.01327, Accuracy = 0.9359, lr=0.001000\n",
      "[Train] (41, 200) loss = 0.03931, Accuracy = 0.9361, lr=0.001000\n",
      "[Train] (41, 300) loss = 0.00330, Accuracy = 0.9363, lr=0.001000\n",
      "[Train] (41, 400) loss = 0.00082, Accuracy = 0.9366, lr=0.001000\n",
      "[Train] (41, 500) loss = 0.00190, Accuracy = 0.9369, lr=0.001000\n",
      "[Train] (42, 0) loss = 0.01799, Accuracy = 0.9371, lr=0.001000\n"
     ]
    },
    {
     "name": "stdout",
     "output_type": "stream",
     "text": [
      "[Train] (42, 100) loss = 0.02597, Accuracy = 0.9372, lr=0.001000\n",
      "[Train] (42, 200) loss = 0.04623, Accuracy = 0.9374, lr=0.001000\n",
      "[Train] (42, 300) loss = 0.00569, Accuracy = 0.9377, lr=0.001000\n",
      "[Train] (42, 400) loss = 0.01400, Accuracy = 0.9379, lr=0.001000\n",
      "[Train] (42, 500) loss = 0.00251, Accuracy = 0.9382, lr=0.001000\n",
      "[Train] (43, 0) loss = 0.01118, Accuracy = 0.9384, lr=0.001000\n",
      "[Train] (43, 100) loss = 0.00433, Accuracy = 0.9387, lr=0.001000\n",
      "[Train] (43, 200) loss = 0.06997, Accuracy = 0.9388, lr=0.001000\n",
      "[Train] (43, 300) loss = 0.10664, Accuracy = 0.9389, lr=0.001000\n",
      "[Train] (43, 400) loss = 0.00220, Accuracy = 0.9391, lr=0.001000\n",
      "[Train] (43, 500) loss = 0.01543, Accuracy = 0.9394, lr=0.001000\n",
      "[Train] (44, 0) loss = 0.01614, Accuracy = 0.9396, lr=0.001000\n",
      "[Train] (44, 100) loss = 0.00023, Accuracy = 0.9398, lr=0.001000\n",
      "[Train] (44, 200) loss = 0.01206, Accuracy = 0.9401, lr=0.001000\n",
      "[Train] (44, 300) loss = 0.00054, Accuracy = 0.9403, lr=0.001000\n",
      "[Train] (44, 400) loss = 0.01822, Accuracy = 0.9405, lr=0.001000\n",
      "[Train] (44, 500) loss = 0.07018, Accuracy = 0.9407, lr=0.001000\n",
      "[Train] (45, 0) loss = 0.04876, Accuracy = 0.9409, lr=0.001000\n",
      "[Train] (45, 100) loss = 0.00140, Accuracy = 0.9411, lr=0.001000\n",
      "[Train] (45, 200) loss = 0.00379, Accuracy = 0.9413, lr=0.001000\n",
      "[Train] (45, 300) loss = 0.03756, Accuracy = 0.9415, lr=0.001000\n",
      "[Train] (45, 400) loss = 0.00293, Accuracy = 0.9417, lr=0.001000\n",
      "[Train] (45, 500) loss = 0.00812, Accuracy = 0.9419, lr=0.001000\n",
      "*[Valid] Accuracy:0.7969, Precison:0.8007, Recall:0.7969, F1 Score:0.7970\n",
      "[Train] (46, 0) loss = 0.04251, Accuracy = 0.9421, lr=0.001000\n",
      "[Train] (46, 100) loss = 0.00353, Accuracy = 0.9423, lr=0.001000\n",
      "[Train] (46, 200) loss = 0.00080, Accuracy = 0.9425, lr=0.001000\n",
      "[Train] (46, 300) loss = 0.00816, Accuracy = 0.9427, lr=0.001000\n",
      "[Train] (46, 400) loss = 0.00095, Accuracy = 0.9429, lr=0.001000\n",
      "[Train] (46, 500) loss = 0.00384, Accuracy = 0.9431, lr=0.001000\n",
      "[Train] (47, 0) loss = 0.01045, Accuracy = 0.9433, lr=0.001000\n",
      "[Train] (47, 100) loss = 0.02948, Accuracy = 0.9435, lr=0.001000\n",
      "[Train] (47, 200) loss = 0.00119, Accuracy = 0.9437, lr=0.001000\n",
      "[Train] (47, 300) loss = 0.00876, Accuracy = 0.9439, lr=0.001000\n",
      "[Train] (47, 400) loss = 0.00565, Accuracy = 0.9441, lr=0.001000\n",
      "[Train] (47, 500) loss = 0.01897, Accuracy = 0.9442, lr=0.001000\n",
      "[Train] (48, 0) loss = 0.00439, Accuracy = 0.9444, lr=0.001000\n",
      "[Train] (48, 100) loss = 0.00123, Accuracy = 0.9446, lr=0.001000\n",
      "[Train] (48, 200) loss = 0.02204, Accuracy = 0.9447, lr=0.001000\n",
      "[Train] (48, 300) loss = 0.03161, Accuracy = 0.9449, lr=0.001000\n",
      "[Train] (48, 400) loss = 0.00519, Accuracy = 0.9451, lr=0.001000\n",
      "[Train] (48, 500) loss = 0.00300, Accuracy = 0.9453, lr=0.001000\n",
      "[Train] (49, 0) loss = 0.00432, Accuracy = 0.9454, lr=0.001000\n",
      "[Train] (49, 100) loss = 0.00337, Accuracy = 0.9456, lr=0.001000\n",
      "[Train] (49, 200) loss = 0.00399, Accuracy = 0.9458, lr=0.001000\n",
      "[Train] (49, 300) loss = 0.04272, Accuracy = 0.9460, lr=0.001000\n",
      "[Train] (49, 400) loss = 0.04147, Accuracy = 0.9461, lr=0.001000\n",
      "[Train] (49, 500) loss = 0.00413, Accuracy = 0.9463, lr=0.001000\n",
      "[Train] (50, 0) loss = 0.00257, Accuracy = 0.9465, lr=0.001000\n",
      "[Train] (50, 100) loss = 0.00798, Accuracy = 0.9466, lr=0.001000\n",
      "[Train] (50, 200) loss = 0.00104, Accuracy = 0.9468, lr=0.001000\n",
      "[Train] (50, 300) loss = 0.01548, Accuracy = 0.9469, lr=0.001000\n",
      "[Train] (50, 400) loss = 0.00058, Accuracy = 0.9471, lr=0.001000\n",
      "[Train] (50, 500) loss = 0.00407, Accuracy = 0.9473, lr=0.001000\n",
      "*[Valid] Accuracy:0.8281, Precison:0.8395, Recall:0.8281, F1 Score:0.8288\n",
      "[Train] (51, 0) loss = 0.00120, Accuracy = 0.9475, lr=0.001000\n",
      "[Train] (51, 100) loss = 0.00115, Accuracy = 0.9476, lr=0.001000\n",
      "[Train] (51, 200) loss = 0.00286, Accuracy = 0.9478, lr=0.001000\n",
      "[Train] (51, 300) loss = 0.00587, Accuracy = 0.9480, lr=0.001000\n",
      "[Train] (51, 400) loss = 0.00117, Accuracy = 0.9482, lr=0.001000\n",
      "[Train] (51, 500) loss = 0.01332, Accuracy = 0.9483, lr=0.001000\n",
      "[Train] (52, 0) loss = 0.00276, Accuracy = 0.9485, lr=0.001000\n",
      "[Train] (52, 100) loss = 0.01958, Accuracy = 0.9487, lr=0.001000\n",
      "[Train] (52, 200) loss = 0.00231, Accuracy = 0.9488, lr=0.001000\n",
      "[Train] (52, 300) loss = 0.03706, Accuracy = 0.9489, lr=0.001000\n",
      "[Train] (52, 400) loss = 0.00107, Accuracy = 0.9491, lr=0.001000\n",
      "[Train] (52, 500) loss = 0.00183, Accuracy = 0.9492, lr=0.001000\n",
      "[Train] (53, 0) loss = 0.00983, Accuracy = 0.9494, lr=0.001000\n",
      "[Train] (53, 100) loss = 0.01083, Accuracy = 0.9495, lr=0.001000\n",
      "[Train] (53, 200) loss = 0.00057, Accuracy = 0.9497, lr=0.001000\n",
      "[Train] (53, 300) loss = 0.00071, Accuracy = 0.9499, lr=0.001000\n",
      "[Train] (53, 400) loss = 0.00141, Accuracy = 0.9500, lr=0.001000\n",
      "[Train] (53, 500) loss = 0.00274, Accuracy = 0.9502, lr=0.001000\n",
      "[Train] (54, 0) loss = 0.00137, Accuracy = 0.9503, lr=0.001000\n",
      "[Train] (54, 100) loss = 0.00586, Accuracy = 0.9505, lr=0.001000\n",
      "[Train] (54, 200) loss = 0.01884, Accuracy = 0.9506, lr=0.001000\n",
      "[Train] (54, 300) loss = 0.02539, Accuracy = 0.9507, lr=0.001000\n",
      "[Train] (54, 400) loss = 0.00433, Accuracy = 0.9509, lr=0.001000\n",
      "[Train] (54, 500) loss = 0.01221, Accuracy = 0.9510, lr=0.001000\n",
      "[Train] (55, 0) loss = 0.00057, Accuracy = 0.9511, lr=0.001000\n",
      "[Train] (55, 100) loss = 0.00414, Accuracy = 0.9513, lr=0.001000\n",
      "[Train] (55, 200) loss = 0.00636, Accuracy = 0.9514, lr=0.001000\n",
      "[Train] (55, 300) loss = 0.01000, Accuracy = 0.9516, lr=0.001000\n",
      "[Train] (55, 400) loss = 0.01900, Accuracy = 0.9517, lr=0.001000\n",
      "[Train] (55, 500) loss = 0.02166, Accuracy = 0.9518, lr=0.001000\n",
      "*[Valid] Accuracy:0.8438, Precison:0.8454, Recall:0.8438, F1 Score:0.8438\n",
      "[Train] (56, 0) loss = 0.04786, Accuracy = 0.9519, lr=0.001000\n",
      "[Train] (56, 100) loss = 0.00158, Accuracy = 0.9520, lr=0.001000\n",
      "[Train] (56, 200) loss = 0.00100, Accuracy = 0.9521, lr=0.001000\n",
      "[Train] (56, 300) loss = 0.07299, Accuracy = 0.9522, lr=0.001000\n",
      "[Train] (56, 400) loss = 0.00359, Accuracy = 0.9523, lr=0.001000\n",
      "[Train] (56, 500) loss = 0.00015, Accuracy = 0.9525, lr=0.001000\n",
      "[Train] (57, 0) loss = 0.02641, Accuracy = 0.9526, lr=0.001000\n",
      "[Train] (57, 100) loss = 0.00099, Accuracy = 0.9528, lr=0.001000\n",
      "[Train] (57, 200) loss = 0.07917, Accuracy = 0.9528, lr=0.001000\n",
      "[Train] (57, 300) loss = 0.01157, Accuracy = 0.9529, lr=0.001000\n",
      "[Train] (57, 400) loss = 0.00273, Accuracy = 0.9530, lr=0.001000\n",
      "[Train] (57, 500) loss = 0.03800, Accuracy = 0.9531, lr=0.001000\n",
      "[Train] (58, 0) loss = 0.00122, Accuracy = 0.9532, lr=0.001000\n",
      "[Train] (58, 100) loss = 0.00104, Accuracy = 0.9534, lr=0.001000\n",
      "[Train] (58, 200) loss = 0.00067, Accuracy = 0.9535, lr=0.001000\n",
      "[Train] (58, 300) loss = 0.00179, Accuracy = 0.9536, lr=0.001000\n",
      "[Train] (58, 400) loss = 0.02229, Accuracy = 0.9537, lr=0.001000\n",
      "[Train] (58, 500) loss = 0.01041, Accuracy = 0.9538, lr=0.001000\n",
      "[Train] (59, 0) loss = 0.00104, Accuracy = 0.9540, lr=0.001000\n",
      "[Train] (59, 100) loss = 0.00272, Accuracy = 0.9541, lr=0.001000\n",
      "[Train] (59, 200) loss = 0.00359, Accuracy = 0.9542, lr=0.001000\n",
      "[Train] (59, 300) loss = 0.00704, Accuracy = 0.9544, lr=0.001000\n",
      "[Train] (59, 400) loss = 0.01344, Accuracy = 0.9545, lr=0.001000\n",
      "[Train] (59, 500) loss = 0.02817, Accuracy = 0.9546, lr=0.001000\n",
      "[Train] (60, 0) loss = 0.00086, Accuracy = 0.9547, lr=0.001000\n",
      "[Train] (60, 100) loss = 0.00650, Accuracy = 0.9548, lr=0.001000\n",
      "[Train] (60, 200) loss = 0.00153, Accuracy = 0.9550, lr=0.001000\n",
      "[Train] (60, 300) loss = 0.01955, Accuracy = 0.9550, lr=0.001000\n",
      "[Train] (60, 400) loss = 0.00350, Accuracy = 0.9552, lr=0.001000\n",
      "[Train] (60, 500) loss = 0.00061, Accuracy = 0.9553, lr=0.001000\n",
      "*[Valid] Accuracy:0.8125, Precison:0.8125, Recall:0.8125, F1 Score:0.8125\n",
      "[Train] (61, 0) loss = 0.00032, Accuracy = 0.9554, lr=0.001000\n",
      "[Train] (61, 100) loss = 0.00574, Accuracy = 0.9555, lr=0.001000\n",
      "[Train] (61, 200) loss = 0.00931, Accuracy = 0.9557, lr=0.001000\n",
      "[Train] (61, 300) loss = 0.02087, Accuracy = 0.9557, lr=0.001000\n",
      "[Train] (61, 400) loss = 0.00864, Accuracy = 0.9559, lr=0.001000\n",
      "[Train] (61, 500) loss = 0.00864, Accuracy = 0.9560, lr=0.001000\n",
      "[Train] (62, 0) loss = 0.00076, Accuracy = 0.9561, lr=0.001000\n",
      "[Train] (62, 100) loss = 0.00045, Accuracy = 0.9562, lr=0.001000\n",
      "[Train] (62, 200) loss = 0.00040, Accuracy = 0.9563, lr=0.001000\n",
      "[Train] (62, 300) loss = 0.00442, Accuracy = 0.9565, lr=0.001000\n"
     ]
    },
    {
     "name": "stdout",
     "output_type": "stream",
     "text": [
      "[Train] (62, 400) loss = 0.00238, Accuracy = 0.9566, lr=0.001000\n",
      "[Train] (62, 500) loss = 0.00126, Accuracy = 0.9567, lr=0.001000\n",
      "[Train] (63, 0) loss = 0.00147, Accuracy = 0.9568, lr=0.001000\n",
      "[Train] (63, 100) loss = 0.00043, Accuracy = 0.9569, lr=0.001000\n",
      "[Train] (63, 200) loss = 0.01210, Accuracy = 0.9570, lr=0.001000\n",
      "[Train] (63, 300) loss = 0.04934, Accuracy = 0.9571, lr=0.001000\n",
      "[Train] (63, 400) loss = 0.00072, Accuracy = 0.9572, lr=0.001000\n",
      "[Train] (63, 500) loss = 0.00496, Accuracy = 0.9573, lr=0.001000\n",
      "[Train] (64, 0) loss = 0.00832, Accuracy = 0.9575, lr=0.001000\n",
      "[Train] (64, 100) loss = 0.01141, Accuracy = 0.9576, lr=0.001000\n",
      "[Train] (64, 200) loss = 0.00058, Accuracy = 0.9577, lr=0.001000\n",
      "[Train] (64, 300) loss = 0.00422, Accuracy = 0.9578, lr=0.001000\n",
      "[Train] (64, 400) loss = 0.01390, Accuracy = 0.9579, lr=0.001000\n",
      "[Train] (64, 500) loss = 0.00117, Accuracy = 0.9580, lr=0.001000\n",
      "[Train] (65, 0) loss = 0.00076, Accuracy = 0.9581, lr=0.001000\n",
      "[Train] (65, 100) loss = 0.02574, Accuracy = 0.9581, lr=0.001000\n",
      "[Train] (65, 200) loss = 0.01732, Accuracy = 0.9582, lr=0.001000\n",
      "[Train] (65, 300) loss = 0.00048, Accuracy = 0.9583, lr=0.001000\n",
      "[Train] (65, 400) loss = 0.00020, Accuracy = 0.9584, lr=0.001000\n",
      "[Train] (65, 500) loss = 0.04733, Accuracy = 0.9585, lr=0.001000\n",
      "*[Valid] Accuracy:0.8438, Precison:0.8510, Recall:0.8438, F1 Score:0.8441\n",
      "[Train] (66, 0) loss = 0.00737, Accuracy = 0.9586, lr=0.001000\n",
      "[Train] (66, 100) loss = 0.00084, Accuracy = 0.9587, lr=0.001000\n",
      "[Train] (66, 200) loss = 0.00638, Accuracy = 0.9588, lr=0.001000\n",
      "[Train] (66, 300) loss = 0.01644, Accuracy = 0.9589, lr=0.001000\n",
      "[Train] (66, 400) loss = 0.03716, Accuracy = 0.9589, lr=0.001000\n",
      "[Train] (66, 500) loss = 0.00187, Accuracy = 0.9590, lr=0.001000\n",
      "[Train] (67, 0) loss = 0.04102, Accuracy = 0.9591, lr=0.001000\n",
      "[Train] (67, 100) loss = 0.00133, Accuracy = 0.9592, lr=0.001000\n",
      "[Train] (67, 200) loss = 0.00939, Accuracy = 0.9593, lr=0.001000\n",
      "[Train] (67, 300) loss = 0.00231, Accuracy = 0.9594, lr=0.001000\n",
      "[Train] (67, 400) loss = 0.00294, Accuracy = 0.9595, lr=0.001000\n",
      "[Train] (67, 500) loss = 0.00550, Accuracy = 0.9596, lr=0.001000\n",
      "[Train] (68, 0) loss = 0.04035, Accuracy = 0.9597, lr=0.001000\n",
      "[Train] (68, 100) loss = 0.00281, Accuracy = 0.9598, lr=0.001000\n",
      "[Train] (68, 200) loss = 0.00038, Accuracy = 0.9599, lr=0.001000\n",
      "[Train] (68, 300) loss = 0.00112, Accuracy = 0.9600, lr=0.001000\n",
      "[Train] (68, 400) loss = 0.00148, Accuracy = 0.9601, lr=0.001000\n",
      "[Train] (68, 500) loss = 0.00459, Accuracy = 0.9602, lr=0.001000\n",
      "[Train] (69, 0) loss = 0.02503, Accuracy = 0.9602, lr=0.001000\n",
      "[Train] (69, 100) loss = 0.00256, Accuracy = 0.9603, lr=0.001000\n",
      "[Train] (69, 200) loss = 0.00170, Accuracy = 0.9604, lr=0.001000\n",
      "[Train] (69, 300) loss = 0.00511, Accuracy = 0.9605, lr=0.001000\n",
      "[Train] (69, 400) loss = 0.00516, Accuracy = 0.9606, lr=0.001000\n",
      "[Train] (69, 500) loss = 0.02532, Accuracy = 0.9607, lr=0.001000\n",
      "[Train] (70, 0) loss = 0.00415, Accuracy = 0.9608, lr=0.001000\n",
      "[Train] (70, 100) loss = 0.03668, Accuracy = 0.9608, lr=0.001000\n",
      "[Train] (70, 200) loss = 0.01907, Accuracy = 0.9609, lr=0.001000\n",
      "[Train] (70, 300) loss = 0.00193, Accuracy = 0.9610, lr=0.001000\n",
      "[Train] (70, 400) loss = 0.00180, Accuracy = 0.9611, lr=0.001000\n",
      "[Train] (70, 500) loss = 0.00643, Accuracy = 0.9612, lr=0.001000\n",
      "*[Valid] Accuracy:0.8125, Precison:0.8196, Recall:0.8125, F1 Score:0.8129\n",
      "[Train] (71, 0) loss = 0.04830, Accuracy = 0.9612, lr=0.001000\n",
      "[Train] (71, 100) loss = 0.00068, Accuracy = 0.9613, lr=0.001000\n",
      "[Train] (71, 200) loss = 0.00297, Accuracy = 0.9614, lr=0.001000\n",
      "[Train] (71, 300) loss = 0.00119, Accuracy = 0.9615, lr=0.001000\n",
      "[Train] (71, 400) loss = 0.03097, Accuracy = 0.9615, lr=0.001000\n",
      "[Train] (71, 500) loss = 0.06543, Accuracy = 0.9616, lr=0.001000\n",
      "[Train] (72, 0) loss = 0.02550, Accuracy = 0.9617, lr=0.001000\n",
      "[Train] (72, 100) loss = 0.00040, Accuracy = 0.9617, lr=0.001000\n",
      "[Train] (72, 200) loss = 0.00050, Accuracy = 0.9618, lr=0.001000\n",
      "[Train] (72, 300) loss = 0.00008, Accuracy = 0.9619, lr=0.001000\n",
      "[Train] (72, 400) loss = 0.09169, Accuracy = 0.9619, lr=0.001000\n",
      "[Train] (72, 500) loss = 0.00119, Accuracy = 0.9620, lr=0.001000\n",
      "[Train] (73, 0) loss = 0.00283, Accuracy = 0.9621, lr=0.001000\n",
      "[Train] (73, 100) loss = 0.00185, Accuracy = 0.9622, lr=0.001000\n",
      "[Train] (73, 200) loss = 0.00168, Accuracy = 0.9622, lr=0.001000\n",
      "[Train] (73, 300) loss = 0.00033, Accuracy = 0.9623, lr=0.001000\n",
      "[Train] (73, 400) loss = 0.01836, Accuracy = 0.9624, lr=0.001000\n",
      "[Train] (73, 500) loss = 0.01692, Accuracy = 0.9624, lr=0.001000\n",
      "[Train] (74, 0) loss = 0.00102, Accuracy = 0.9625, lr=0.001000\n",
      "[Train] (74, 100) loss = 0.00632, Accuracy = 0.9626, lr=0.001000\n",
      "[Train] (74, 200) loss = 0.00174, Accuracy = 0.9627, lr=0.001000\n",
      "[Train] (74, 300) loss = 0.00417, Accuracy = 0.9628, lr=0.001000\n",
      "[Train] (74, 400) loss = 0.00433, Accuracy = 0.9629, lr=0.001000\n",
      "[Train] (74, 500) loss = 0.00210, Accuracy = 0.9629, lr=0.001000\n",
      "[Train] (75, 0) loss = 0.01148, Accuracy = 0.9630, lr=0.001000\n",
      "[Train] (75, 100) loss = 0.00140, Accuracy = 0.9631, lr=0.001000\n",
      "[Train] (75, 200) loss = 0.00856, Accuracy = 0.9632, lr=0.001000\n",
      "[Train] (75, 300) loss = 0.00057, Accuracy = 0.9632, lr=0.001000\n",
      "[Train] (75, 400) loss = 0.00067, Accuracy = 0.9633, lr=0.001000\n",
      "[Train] (75, 500) loss = 0.01349, Accuracy = 0.9634, lr=0.001000\n",
      "*[Valid] Accuracy:0.7969, Precison:0.8007, Recall:0.7969, F1 Score:0.7970\n",
      "[Train] (76, 0) loss = 0.00035, Accuracy = 0.9634, lr=0.001000\n",
      "[Train] (76, 100) loss = 0.00213, Accuracy = 0.9635, lr=0.001000\n",
      "[Train] (76, 200) loss = 0.00019, Accuracy = 0.9636, lr=0.001000\n",
      "[Train] (76, 300) loss = 0.00277, Accuracy = 0.9637, lr=0.001000\n",
      "[Train] (76, 400) loss = 0.00131, Accuracy = 0.9638, lr=0.001000\n",
      "[Train] (76, 500) loss = 0.00069, Accuracy = 0.9639, lr=0.001000\n",
      "[Train] (77, 0) loss = 0.00067, Accuracy = 0.9639, lr=0.001000\n",
      "[Train] (77, 100) loss = 0.00088, Accuracy = 0.9640, lr=0.001000\n",
      "[Train] (77, 200) loss = 0.01220, Accuracy = 0.9641, lr=0.001000\n",
      "[Train] (77, 300) loss = 0.00044, Accuracy = 0.9642, lr=0.001000\n",
      "[Train] (77, 400) loss = 0.00961, Accuracy = 0.9642, lr=0.001000\n",
      "[Train] (77, 500) loss = 0.00017, Accuracy = 0.9643, lr=0.001000\n",
      "[Train] (78, 0) loss = 0.01006, Accuracy = 0.9644, lr=0.001000\n",
      "[Train] (78, 100) loss = 0.07561, Accuracy = 0.9644, lr=0.001000\n",
      "[Train] (78, 200) loss = 0.00149, Accuracy = 0.9645, lr=0.001000\n",
      "[Train] (78, 300) loss = 0.00177, Accuracy = 0.9646, lr=0.001000\n",
      "[Train] (78, 400) loss = 0.00167, Accuracy = 0.9646, lr=0.001000\n",
      "[Train] (78, 500) loss = 0.00515, Accuracy = 0.9647, lr=0.001000\n",
      "[Train] (79, 0) loss = 0.00020, Accuracy = 0.9648, lr=0.001000\n",
      "[Train] (79, 100) loss = 0.00657, Accuracy = 0.9649, lr=0.001000\n",
      "[Train] (79, 200) loss = 0.03257, Accuracy = 0.9649, lr=0.001000\n",
      "[Train] (79, 300) loss = 0.00320, Accuracy = 0.9650, lr=0.001000\n",
      "[Train] (79, 400) loss = 0.01416, Accuracy = 0.9650, lr=0.001000\n",
      "[Train] (79, 500) loss = 0.00802, Accuracy = 0.9651, lr=0.001000\n",
      "[Train] (80, 0) loss = 0.00647, Accuracy = 0.9652, lr=0.001000\n",
      "[Train] (80, 100) loss = 0.02262, Accuracy = 0.9652, lr=0.001000\n",
      "[Train] (80, 200) loss = 0.00089, Accuracy = 0.9653, lr=0.001000\n",
      "[Train] (80, 300) loss = 0.00135, Accuracy = 0.9654, lr=0.001000\n",
      "[Train] (80, 400) loss = 0.00542, Accuracy = 0.9654, lr=0.001000\n",
      "[Train] (80, 500) loss = 0.00130, Accuracy = 0.9655, lr=0.001000\n",
      "*[Valid] Accuracy:0.8438, Precison:0.8460, Recall:0.8438, F1 Score:0.8441\n",
      "[Train] (81, 0) loss = 0.00024, Accuracy = 0.9656, lr=0.001000\n",
      "[Train] (81, 100) loss = 0.00107, Accuracy = 0.9656, lr=0.001000\n",
      "[Train] (81, 200) loss = 0.00463, Accuracy = 0.9657, lr=0.001000\n",
      "[Train] (81, 300) loss = 0.00041, Accuracy = 0.9658, lr=0.001000\n",
      "[Train] (81, 400) loss = 0.02056, Accuracy = 0.9658, lr=0.001000\n",
      "[Train] (81, 500) loss = 0.04541, Accuracy = 0.9659, lr=0.001000\n",
      "[Train] (82, 0) loss = 0.00598, Accuracy = 0.9659, lr=0.001000\n",
      "[Train] (82, 100) loss = 0.00049, Accuracy = 0.9660, lr=0.001000\n",
      "[Train] (82, 200) loss = 0.01384, Accuracy = 0.9661, lr=0.001000\n",
      "[Train] (82, 300) loss = 0.00011, Accuracy = 0.9661, lr=0.001000\n",
      "[Train] (82, 400) loss = 0.02429, Accuracy = 0.9662, lr=0.001000\n",
      "[Train] (82, 500) loss = 0.03785, Accuracy = 0.9662, lr=0.001000\n",
      "[Train] (83, 0) loss = 0.00665, Accuracy = 0.9662, lr=0.001000\n"
     ]
    },
    {
     "name": "stdout",
     "output_type": "stream",
     "text": [
      "[Train] (83, 100) loss = 0.01826, Accuracy = 0.9663, lr=0.001000\n",
      "[Train] (83, 200) loss = 0.00027, Accuracy = 0.9664, lr=0.001000\n",
      "[Train] (83, 300) loss = 0.00234, Accuracy = 0.9664, lr=0.001000\n",
      "[Train] (83, 400) loss = 0.00133, Accuracy = 0.9665, lr=0.001000\n",
      "[Train] (83, 500) loss = 0.02004, Accuracy = 0.9665, lr=0.001000\n",
      "[Train] (84, 0) loss = 0.00095, Accuracy = 0.9666, lr=0.001000\n",
      "[Train] (84, 100) loss = 0.00011, Accuracy = 0.9667, lr=0.001000\n",
      "[Train] (84, 200) loss = 0.00019, Accuracy = 0.9667, lr=0.001000\n",
      "[Train] (84, 300) loss = 0.00090, Accuracy = 0.9668, lr=0.001000\n",
      "[Train] (84, 400) loss = 0.00090, Accuracy = 0.9669, lr=0.001000\n",
      "[Train] (84, 500) loss = 0.00369, Accuracy = 0.9669, lr=0.001000\n",
      "[Train] (85, 0) loss = 0.00260, Accuracy = 0.9670, lr=0.001000\n",
      "[Train] (85, 100) loss = 0.01098, Accuracy = 0.9671, lr=0.001000\n",
      "[Train] (85, 200) loss = 0.00115, Accuracy = 0.9671, lr=0.001000\n",
      "[Train] (85, 300) loss = 0.07804, Accuracy = 0.9671, lr=0.001000\n",
      "[Train] (85, 400) loss = 0.00018, Accuracy = 0.9672, lr=0.001000\n",
      "[Train] (85, 500) loss = 0.00140, Accuracy = 0.9672, lr=0.001000\n",
      "*[Valid] Accuracy:0.8125, Precison:0.8125, Recall:0.8125, F1 Score:0.8125\n",
      "[Train] (86, 0) loss = 0.00035, Accuracy = 0.9673, lr=0.001000\n",
      "[Train] (86, 100) loss = 0.00204, Accuracy = 0.9674, lr=0.001000\n",
      "[Train] (86, 200) loss = 0.00065, Accuracy = 0.9674, lr=0.001000\n",
      "[Train] (86, 300) loss = 0.00571, Accuracy = 0.9675, lr=0.001000\n",
      "[Train] (86, 400) loss = 0.00132, Accuracy = 0.9676, lr=0.001000\n",
      "[Train] (86, 500) loss = 0.00008, Accuracy = 0.9676, lr=0.001000\n",
      "[Train] (87, 0) loss = 0.00262, Accuracy = 0.9677, lr=0.001000\n",
      "[Train] (87, 100) loss = 0.00737, Accuracy = 0.9678, lr=0.001000\n",
      "[Train] (87, 200) loss = 0.00600, Accuracy = 0.9678, lr=0.001000\n",
      "[Train] (87, 300) loss = 0.00024, Accuracy = 0.9679, lr=0.001000\n",
      "[Train] (87, 400) loss = 0.00346, Accuracy = 0.9679, lr=0.001000\n",
      "[Train] (87, 500) loss = 0.01158, Accuracy = 0.9680, lr=0.001000\n",
      "[Train] (88, 0) loss = 0.00902, Accuracy = 0.9681, lr=0.001000\n",
      "[Train] (88, 100) loss = 0.00105, Accuracy = 0.9681, lr=0.001000\n",
      "[Train] (88, 200) loss = 0.00039, Accuracy = 0.9682, lr=0.001000\n",
      "[Train] (88, 300) loss = 0.00082, Accuracy = 0.9682, lr=0.001000\n",
      "[Train] (88, 400) loss = 0.00109, Accuracy = 0.9683, lr=0.001000\n",
      "[Train] (88, 500) loss = 0.02318, Accuracy = 0.9683, lr=0.001000\n",
      "[Train] (89, 0) loss = 0.01309, Accuracy = 0.9684, lr=0.001000\n",
      "[Train] (89, 100) loss = 0.00050, Accuracy = 0.9684, lr=0.001000\n",
      "[Train] (89, 200) loss = 0.00098, Accuracy = 0.9685, lr=0.001000\n",
      "[Train] (89, 300) loss = 0.00007, Accuracy = 0.9685, lr=0.001000\n",
      "[Train] (89, 400) loss = 0.02642, Accuracy = 0.9686, lr=0.001000\n",
      "[Train] (89, 500) loss = 0.00100, Accuracy = 0.9686, lr=0.001000\n",
      "[Train] (90, 0) loss = 0.00045, Accuracy = 0.9687, lr=0.001000\n",
      "[Train] (90, 100) loss = 0.00027, Accuracy = 0.9688, lr=0.001000\n",
      "[Train] (90, 200) loss = 0.01832, Accuracy = 0.9688, lr=0.001000\n",
      "[Train] (90, 300) loss = 0.02316, Accuracy = 0.9688, lr=0.001000\n",
      "[Train] (90, 400) loss = 0.02041, Accuracy = 0.9688, lr=0.001000\n",
      "[Train] (90, 500) loss = 0.00068, Accuracy = 0.9689, lr=0.001000\n",
      "*[Valid] Accuracy:0.8594, Precison:0.8597, Recall:0.8594, F1 Score:0.8593\n",
      "[Train] (91, 0) loss = 0.00101, Accuracy = 0.9690, lr=0.001000\n",
      "[Train] (91, 100) loss = 0.00042, Accuracy = 0.9690, lr=0.001000\n",
      "[Train] (91, 200) loss = 0.00197, Accuracy = 0.9691, lr=0.001000\n",
      "[Train] (91, 300) loss = 0.00008, Accuracy = 0.9691, lr=0.001000\n",
      "[Train] (91, 400) loss = 0.00491, Accuracy = 0.9692, lr=0.001000\n",
      "[Train] (91, 500) loss = 0.00201, Accuracy = 0.9692, lr=0.001000\n",
      "[Train] (92, 0) loss = 0.14436, Accuracy = 0.9692, lr=0.001000\n",
      "[Train] (92, 100) loss = 0.00832, Accuracy = 0.9693, lr=0.001000\n",
      "[Train] (92, 200) loss = 0.00095, Accuracy = 0.9693, lr=0.001000\n",
      "[Train] (92, 300) loss = 0.00255, Accuracy = 0.9694, lr=0.001000\n",
      "[Train] (92, 400) loss = 0.00631, Accuracy = 0.9695, lr=0.001000\n",
      "[Train] (92, 500) loss = 0.00472, Accuracy = 0.9695, lr=0.001000\n",
      "[Train] (93, 0) loss = 0.00183, Accuracy = 0.9696, lr=0.001000\n",
      "[Train] (93, 100) loss = 0.00037, Accuracy = 0.9696, lr=0.001000\n",
      "[Train] (93, 200) loss = 0.01879, Accuracy = 0.9697, lr=0.001000\n",
      "[Train] (93, 300) loss = 0.00044, Accuracy = 0.9697, lr=0.001000\n",
      "[Train] (93, 400) loss = 0.00021, Accuracy = 0.9698, lr=0.001000\n",
      "[Train] (93, 500) loss = 0.00038, Accuracy = 0.9698, lr=0.001000\n",
      "[Train] (94, 0) loss = 0.00029, Accuracy = 0.9699, lr=0.001000\n",
      "[Train] (94, 100) loss = 0.00026, Accuracy = 0.9699, lr=0.001000\n",
      "[Train] (94, 200) loss = 0.00042, Accuracy = 0.9700, lr=0.001000\n",
      "[Train] (94, 300) loss = 0.00032, Accuracy = 0.9700, lr=0.001000\n",
      "[Train] (94, 400) loss = 0.02202, Accuracy = 0.9701, lr=0.001000\n",
      "[Train] (94, 500) loss = 0.00056, Accuracy = 0.9701, lr=0.001000\n",
      "[Train] (95, 0) loss = 0.00128, Accuracy = 0.9702, lr=0.001000\n",
      "[Train] (95, 100) loss = 0.00056, Accuracy = 0.9702, lr=0.001000\n",
      "[Train] (95, 200) loss = 0.02361, Accuracy = 0.9702, lr=0.001000\n",
      "[Train] (95, 300) loss = 0.00020, Accuracy = 0.9703, lr=0.001000\n",
      "[Train] (95, 400) loss = 0.01211, Accuracy = 0.9703, lr=0.001000\n",
      "[Train] (95, 500) loss = 0.00064, Accuracy = 0.9704, lr=0.001000\n",
      "*[Valid] Accuracy:0.7969, Precison:0.8101, Recall:0.7969, F1 Score:0.7986\n",
      "[Train] (96, 0) loss = 0.00121, Accuracy = 0.9704, lr=0.001000\n",
      "[Train] (96, 100) loss = 0.00026, Accuracy = 0.9705, lr=0.001000\n",
      "[Train] (96, 200) loss = 0.06847, Accuracy = 0.9705, lr=0.001000\n",
      "[Train] (96, 300) loss = 0.01420, Accuracy = 0.9705, lr=0.001000\n",
      "[Train] (96, 400) loss = 0.00133, Accuracy = 0.9706, lr=0.001000\n",
      "[Train] (96, 500) loss = 0.00074, Accuracy = 0.9706, lr=0.001000\n",
      "[Train] (97, 0) loss = 0.00033, Accuracy = 0.9707, lr=0.001000\n",
      "[Train] (97, 100) loss = 0.00021, Accuracy = 0.9708, lr=0.001000\n",
      "[Train] (97, 200) loss = 0.00103, Accuracy = 0.9708, lr=0.001000\n",
      "[Train] (97, 300) loss = 0.00111, Accuracy = 0.9709, lr=0.001000\n",
      "[Train] (97, 400) loss = 0.04748, Accuracy = 0.9709, lr=0.001000\n",
      "[Train] (97, 500) loss = 0.00141, Accuracy = 0.9709, lr=0.001000\n",
      "[Train] (98, 0) loss = 0.00050, Accuracy = 0.9710, lr=0.001000\n",
      "[Train] (98, 100) loss = 0.03784, Accuracy = 0.9710, lr=0.001000\n",
      "[Train] (98, 200) loss = 0.00119, Accuracy = 0.9710, lr=0.001000\n",
      "[Train] (98, 300) loss = 0.07375, Accuracy = 0.9711, lr=0.001000\n",
      "[Train] (98, 400) loss = 0.02127, Accuracy = 0.9711, lr=0.001000\n",
      "[Train] (98, 500) loss = 0.00015, Accuracy = 0.9711, lr=0.001000\n",
      "[Train] (99, 0) loss = 0.00469, Accuracy = 0.9712, lr=0.001000\n",
      "[Train] (99, 100) loss = 0.01730, Accuracy = 0.9712, lr=0.001000\n",
      "[Train] (99, 200) loss = 0.00887, Accuracy = 0.9713, lr=0.001000\n",
      "[Train] (99, 300) loss = 0.00153, Accuracy = 0.9713, lr=0.001000\n",
      "[Train] (99, 400) loss = 0.05433, Accuracy = 0.9714, lr=0.001000\n",
      "[Train] (99, 500) loss = 0.00046, Accuracy = 0.9714, lr=0.001000\n",
      "[Train] (100, 0) loss = 0.00505, Accuracy = 0.9715, lr=0.001000\n",
      "[Train] (100, 100) loss = 0.00020, Accuracy = 0.9715, lr=0.001000\n",
      "[Train] (100, 200) loss = 0.00033, Accuracy = 0.9716, lr=0.001000\n",
      "[Train] (100, 300) loss = 0.00864, Accuracy = 0.9716, lr=0.001000\n",
      "[Train] (100, 400) loss = 0.00021, Accuracy = 0.9716, lr=0.001000\n",
      "[Train] (100, 500) loss = 0.00319, Accuracy = 0.9717, lr=0.001000\n",
      "*[Valid] Accuracy:0.8438, Precison:0.8454, Recall:0.8438, F1 Score:0.8438\n",
      "Time : 313.9409439563751[s]\n"
     ]
    }
   ],
   "source": [
    "start = time.time()\n",
    "\n",
    "correct = 0\n",
    "total = 0\n",
    "train_acc = []\n",
    "tmp_acc = 0\n",
    "loss_arr = []\n",
    "\n",
    "print(\"*Train Start!!*\")\n",
    "if torch.cuda.device_count() == True:\n",
    "    print(\"epoch : {}, learing rate : {}, device : {}\".format(num_epoch, lr, torch.cuda.get_device_name(0)))\n",
    "else:\n",
    "    print(\"epoch : {}, learing rate : {}, device : {}\".format(num_epoch, lr, device))\n",
    "print(\"Model : {}\".format(model._get_name()))\n",
    "print(\"Loss function : {}\".format(loss_function._get_name()))\n",
    "print(\"Optimizer : {}\".format(str(optimizer).replace(\"\\n\", \" \").replace(\"     \", \", \")))\n",
    "print(\"*\"*100)\n",
    "\n",
    "correct = 0\n",
    "total = 0\n",
    "tmp_acc = 0\n",
    "train_acc = []\n",
    "loss_arr = []\n",
    "val_view_acc = []\n",
    "start = time.time()  # 시작 시간 저장\n",
    "\n",
    "for epoch in range(num_epoch):\n",
    "    epoch = epoch + 1\n",
    "    for train_iter, (train_x, train_y_true) in enumerate(trainloader):\n",
    "        model.train()  # Train mode\n",
    "        model.zero_grad()  # model zero initialize\n",
    "        optimizer.zero_grad()  # optimizer zero initialize\n",
    "        \n",
    "        train_x, train_y_true = train_x.to(device), train_y_true.to(device)  # device(gpu)\n",
    "        train_y_pred = model.forward(train_x)  # forward\n",
    "\n",
    "        loss = loss_function(train_y_pred, train_y_true)  # loss function\n",
    "        loss.backward()  # backward\n",
    "        optimizer.step()  # optimizer\n",
    "        _, pred_index = torch.max(train_y_pred, 1)\n",
    "    \n",
    "        if train_iter % view_train_iter == 0:\n",
    "            loss_arr.append(loss.item())\n",
    "            total += train_y_true.size(0)  # y.size(0)\n",
    "            correct += (pred_index == train_y_true).sum().float()  # correct\n",
    "            tmp_acc = correct / total  # accuracy\n",
    "            train_acc.append(tmp_acc.tolist())\n",
    "            print(\"[Train] ({}, {}) loss = {:.5f}, Accuracy = {:.4f}, lr={:.6f}\".format(epoch, train_iter, loss.item(), tmp_acc, optimizer.param_groups[0]['lr']))\n",
    "    # validation \n",
    "    if epoch % view_val_iter == 0: \n",
    "        val_actual_tmp, val_pred_tmp = [], []\n",
    "        for val_iter, (val_x, val_y_true) in enumerate(validationloader):\n",
    "            model.eval()\n",
    "            val_x, val_y_true = val_x.to(device), val_y_true.to(device)  # device(gpu)\n",
    "            val_y_pred = model.forward(val_x)  # forward\n",
    "            _, val_pred_index = torch.max(val_y_pred, 1)\n",
    "            \n",
    "            val_pred_index_cpu = val_pred_index.cpu().detach().numpy()\n",
    "            val_y_true_cpu = val_y_true.cpu().detach().numpy()\n",
    "            \n",
    "            val_actual_tmp.append(val_pred_index_cpu.tolist())\n",
    "            val_pred_tmp.append(val_y_true_cpu.tolist())\n",
    "            \n",
    "        val_acc, val_precision, val_recall, val_f1 = get_clf_eval(val_actual_tmp[1], val_pred_tmp[1])\n",
    "        val_view_acc.append(val_acc)\n",
    "        print(\"*[Valid] Accuracy:{:.4f}, Precison:{:.4f}, Recall:{:.4f}, F1 Score:{:.4f}\".format(\n",
    "             val_acc, val_precision, val_recall, val_f1))\n",
    "print(\"Time : \", time.time()-start,'[s]',sep='')"
   ]
  },
  {
   "cell_type": "code",
   "execution_count": 40,
   "metadata": {
    "ExecuteTime": {
     "end_time": "2022-02-01T13:34:18.633164Z",
     "start_time": "2022-02-01T13:34:18.436172Z"
    }
   },
   "outputs": [
    {
     "data": {
      "image/png": "[encoded data removed]",
      "text/plain": [
       "<Figure size 800x500 with 1 Axes>"
      ]
     },
     "metadata": {},
     "output_type": "display_data"
    },
    {
     "name": "stdout",
     "output_type": "stream",
     "text": [
      "./[plot] CNN_LSTM_layer2.pdf\n"
     ]
    }
   ],
   "source": [
    "f = plt.figure(figsize=[8, 5])\n",
    "f.set_facecolor(\"white\")\n",
    "\n",
    "plt.style.use(['default'])\n",
    "plt.plot(loss_arr)\n",
    "plt.plot(train_acc)\n",
    "\n",
    "\n",
    "plt.legend(['Loss', 'Accuracy'])\n",
    "plt.ylim((0.0, 1.05))\n",
    "plt.grid(True)\n",
    "plt.show()\n",
    "print(\"./\"+\"[plot] \"+model._get_name()+\"_\"+'layer'+str(num_layers)+\".pdf\")\n",
    "f.savefig(\"./\"+\"[plot] \"+model._get_name()+\"_\"+'layer'+str(num_layers)+\".pdf\")\n"
   ]
  },
  {
   "cell_type": "markdown",
   "metadata": {},
   "source": [
    "## Model Evaluation"
   ]
  },
  {
   "cell_type": "code",
   "execution_count": 42,
   "metadata": {
    "ExecuteTime": {
     "end_time": "2022-02-01T13:34:40.302411Z",
     "start_time": "2022-02-01T13:34:40.114803Z"
    },
    "tags": []
   },
   "outputs": [
    {
     "name": "stdout",
     "output_type": "stream",
     "text": [
      "[Test] Accuracy : 0.8424, Precision : 0.8468, Recall : 0.8424, F1 Score : 0.8422\n",
      "[Test] Model Performance : 0.84243\n",
      "Time : 0.1676795482635498[s]\n"
     ]
    }
   ],
   "source": [
    "# for confusion matrix\n",
    "\n",
    "test_pred_acc = []  \n",
    "test_actual_acc = []  \n",
    "start = time.time()  # 시작 시간 저장\n",
    "device = 'cuda:0'\n",
    "model.to(device)\n",
    "\n",
    "model.eval()\n",
    "with torch.no_grad():\n",
    "    test_acc_tmp, test_precision_tmp, test_recall_tmp, test_f1_tmp = [], [], [], []\n",
    "    for test_iter, (test_x, test_y_true) in enumerate(testloader):\n",
    "        test_x, test_y_true = test_x.to(device), test_y_true.to(device)\n",
    "        test_y_pred = model.forward(test_x)  # forward\n",
    "        \n",
    "        _, test_pred_index = torch.max(test_y_pred, 1)\n",
    "\n",
    "        test_pred_index_cpu = test_pred_index.cpu().detach().numpy()\n",
    "        test_y_true_cpu = test_y_true.cpu().detach().numpy()\n",
    "        \n",
    "        test_pred_acc.append(test_pred_index_cpu)\n",
    "        test_actual_acc.append(test_y_true_cpu)\n",
    "            \n",
    "        test_acc, test_precision, test_recall, test_f1 = get_clf_eval(test_y_true_cpu, test_pred_index_cpu)\n",
    "\n",
    "        test_acc_tmp.append(test_acc), test_precision_tmp.append(test_precision), test_recall_tmp.append(test_recall), test_f1_tmp.append(test_f1)\n",
    "    test_acc_mean = sum(test_acc_tmp, 0.0)/len(test_acc_tmp)\n",
    "    test_precision_mean = sum(test_precision_tmp, 0.0)/len(test_precision_tmp)\n",
    "    test_recall_mean = sum(test_recall_tmp, 0.0)/len(test_recall_tmp)\n",
    "    test_f1_mean = sum(test_f1_tmp, 0.0)/len(test_f1_tmp)\n",
    "    print(\"[Test] Accuracy : {:.4f}, Precision : {:.4f}, Recall : {:.4f}, F1 Score : {:.4f}\".format(\n",
    "         test_acc_mean, test_precision_mean, test_recall_mean, test_f1_mean))\n",
    "    print(\"[Test] Model Performance : {:.5f}\".format(test_acc_mean))\n",
    "print(\"Time : \", time.time()-start,'[s]',sep='')"
   ]
  },
  {
   "cell_type": "markdown",
   "metadata": {},
   "source": [
    "## Save Model"
   ]
  },
  {
   "cell_type": "code",
   "execution_count": 43,
   "metadata": {
    "ExecuteTime": {
     "end_time": "2022-02-01T13:34:42.770045Z",
     "start_time": "2022-02-01T13:34:42.763035Z"
    }
   },
   "outputs": [
    {
     "name": "stdout",
     "output_type": "stream",
     "text": [
      "C:\\Users\\Yoon\\Documents\\JupyterNotebook_Server\\UWB\\model\\[CNN_LSTM](epoch-100)-(init_lr-0.001)-(batch-64)-(acc-84).pt\n"
     ]
    }
   ],
   "source": [
    "epoch_str = str(epoch)\n",
    "lr_str = str(lr)\n",
    "batch_str= str(batch_size)\n",
    "acc_str= str(int(test_acc_mean*100))\n",
    "\n",
    "model_name = \"[\"+model._get_name()+\"]\"+\"(epoch-\"+epoch_str+\")-\"+\"(init_lr-\"+lr_str+\")-\"+\"(batch-\"+batch_str+\")-\"+\"(acc-\"+acc_str+\").pt\"\n",
    "save_path = os.path.join(path, dir_ , model_name)\n",
    "print(save_path)"
   ]
  },
  {
   "cell_type": "code",
   "execution_count": 44,
   "metadata": {
    "ExecuteTime": {
     "end_time": "2022-02-01T13:34:43.981273Z",
     "start_time": "2022-02-01T13:34:43.965269Z"
    },
    "tags": []
   },
   "outputs": [
    {
     "name": "stdout",
     "output_type": "stream",
     "text": [
      "Model's state_dict:\n",
      "conv1d_layer.0.weight \t torch.Size([10, 1, 4])\n",
      "conv1d_layer.0.bias \t torch.Size([10])\n",
      "conv1d_layer.2.weight \t torch.Size([20, 10, 5])\n",
      "conv1d_layer.2.bias \t torch.Size([20])\n",
      "lstm.weight_ih_l0 \t torch.Size([128, 504])\n",
      "lstm.weight_hh_l0 \t torch.Size([128, 32])\n",
      "lstm.weight_ih_l0_reverse \t torch.Size([128, 504])\n",
      "lstm.weight_hh_l0_reverse \t torch.Size([128, 32])\n",
      "lstm.weight_ih_l1 \t torch.Size([128, 64])\n",
      "lstm.weight_hh_l1 \t torch.Size([128, 32])\n",
      "lstm.weight_ih_l1_reverse \t torch.Size([128, 64])\n",
      "lstm.weight_hh_l1_reverse \t torch.Size([128, 32])\n",
      "bn.weight \t torch.Size([64])\n",
      "bn.bias \t torch.Size([64])\n",
      "bn.running_mean \t torch.Size([64])\n",
      "bn.running_var \t torch.Size([64])\n",
      "bn.num_batches_tracked \t torch.Size([])\n",
      "fc_layer.weight \t torch.Size([128, 64])\n",
      "fc_layer.bias \t torch.Size([128])\n",
      "fc_layer_class.weight \t torch.Size([2, 128])\n",
      "fc_layer_class.bias \t torch.Size([2])\n"
     ]
    }
   ],
   "source": [
    "print(\"Model's state_dict:\")\n",
    "for param_tensor in model.state_dict():\n",
    "    print(param_tensor, \"\\t\", model.state_dict()[param_tensor].size())"
   ]
  },
  {
   "cell_type": "code",
   "execution_count": 46,
   "metadata": {
    "ExecuteTime": {
     "end_time": "2022-02-01T13:34:46.333925Z",
     "start_time": "2022-02-01T13:34:46.317924Z"
    }
   },
   "outputs": [],
   "source": [
    "torch.save({'epoch' : epoch,\n",
    "            'model_state_dict' : model.state_dict(),\n",
    "            'optimizer_state_dict' : optimizer.state_dict(),\n",
    "            'loss' : loss\n",
    "           }, save_path)"
   ]
  },
  {
   "cell_type": "code",
   "execution_count": null,
   "metadata": {},
   "outputs": [],
   "source": []
  }
 ],
 "metadata": {
  "kernelspec": {
   "display_name": "Python 3",
   "language": "python",
   "name": "python3"
  },
  "language_info": {
   "codemirror_mode": {
    "name": "ipython",
    "version": 3
   },
   "file_extension": ".py",
   "mimetype": "text/x-python",
   "name": "python",
   "nbconvert_exporter": "python",
   "pygments_lexer": "ipython3",
   "version": "3.8.8"
  },
  "toc": {
   "base_numbering": 1,
   "nav_menu": {},
   "number_sections": true,
   "sideBar": true,
   "skip_h1_title": false,
   "title_cell": "Table of Contents",
   "title_sidebar": "Contents",
   "toc_cell": false,
   "toc_position": {},
   "toc_section_display": true,
   "toc_window_display": false
  },
  "varInspector": {
   "cols": {
    "lenName": 16,
    "lenType": 16,
    "lenVar": 40
   },
   "kernels_config": {
    "python": {
     "delete_cmd_postfix": "",
     "delete_cmd_prefix": "del ",
     "library": "var_list.py",
     "varRefreshCmd": "print(var_dic_list())"
    },
    "r": {
     "delete_cmd_postfix": ") ",
     "delete_cmd_prefix": "rm(",
     "library": "var_list.r",
     "varRefreshCmd": "cat(var_dic_list()) "
    }
   },
   "types_to_exclude": [
    "module",
    "function",
    "builtin_function_or_method",
    "instance",
    "_Feature"
   ],
   "window_display": false
  }
 },
 "nbformat": 4,
 "nbformat_minor": 2
}
